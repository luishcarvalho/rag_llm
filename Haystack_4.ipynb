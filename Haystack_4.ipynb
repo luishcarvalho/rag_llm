{
 "cells": [
  {
   "cell_type": "markdown",
   "metadata": {
    "id": "9uRLpVGJtEkf"
   },
   "source": [
    "# Installs"
   ]
  },
  {
   "cell_type": "code",
   "execution_count": 6,
   "metadata": {},
   "outputs": [
    {
     "name": "stdout",
     "output_type": "stream",
     "text": [
      "Collecting chroma-haystack\n",
      "  Downloading chroma_haystack-0.22.1-py3-none-any.whl.metadata (2.2 kB)\n",
      "Requirement already satisfied: chromadb>=0.5.0 in ./myenv/lib/python3.12/site-packages (from chroma-haystack) (0.5.16)\n",
      "Requirement already satisfied: haystack-ai in ./myenv/lib/python3.12/site-packages (from chroma-haystack) (2.6.1)\n",
      "Requirement already satisfied: typing-extensions>=4.8.0 in ./myenv/lib/python3.12/site-packages (from chroma-haystack) (4.12.2)\n",
      "Requirement already satisfied: build>=1.0.3 in ./myenv/lib/python3.12/site-packages (from chromadb>=0.5.0->chroma-haystack) (1.2.2.post1)\n",
      "Requirement already satisfied: pydantic>=1.9 in ./myenv/lib/python3.12/site-packages (from chromadb>=0.5.0->chroma-haystack) (2.9.2)\n",
      "Requirement already satisfied: chroma-hnswlib==0.7.6 in ./myenv/lib/python3.12/site-packages (from chromadb>=0.5.0->chroma-haystack) (0.7.6)\n",
      "Requirement already satisfied: fastapi>=0.95.2 in ./myenv/lib/python3.12/site-packages (from chromadb>=0.5.0->chroma-haystack) (0.115.2)\n",
      "Requirement already satisfied: uvicorn>=0.18.3 in ./myenv/lib/python3.12/site-packages (from uvicorn[standard]>=0.18.3->chromadb>=0.5.0->chroma-haystack) (0.32.0)\n",
      "Requirement already satisfied: numpy>=1.22.5 in ./myenv/lib/python3.12/site-packages (from chromadb>=0.5.0->chroma-haystack) (1.26.4)\n",
      "Requirement already satisfied: posthog>=2.4.0 in ./myenv/lib/python3.12/site-packages (from chromadb>=0.5.0->chroma-haystack) (3.7.0)\n",
      "Requirement already satisfied: onnxruntime>=1.14.1 in ./myenv/lib/python3.12/site-packages (from chromadb>=0.5.0->chroma-haystack) (1.19.2)\n",
      "Requirement already satisfied: opentelemetry-api>=1.2.0 in ./myenv/lib/python3.12/site-packages (from chromadb>=0.5.0->chroma-haystack) (1.27.0)\n",
      "Requirement already satisfied: opentelemetry-exporter-otlp-proto-grpc>=1.2.0 in ./myenv/lib/python3.12/site-packages (from chromadb>=0.5.0->chroma-haystack) (1.27.0)\n",
      "Requirement already satisfied: opentelemetry-instrumentation-fastapi>=0.41b0 in ./myenv/lib/python3.12/site-packages (from chromadb>=0.5.0->chroma-haystack) (0.48b0)\n",
      "Requirement already satisfied: opentelemetry-sdk>=1.2.0 in ./myenv/lib/python3.12/site-packages (from chromadb>=0.5.0->chroma-haystack) (1.27.0)\n",
      "Requirement already satisfied: tokenizers>=0.13.2 in ./myenv/lib/python3.12/site-packages (from chromadb>=0.5.0->chroma-haystack) (0.20.1)\n",
      "Requirement already satisfied: pypika>=0.48.9 in ./myenv/lib/python3.12/site-packages (from chromadb>=0.5.0->chroma-haystack) (0.48.9)\n",
      "Requirement already satisfied: tqdm>=4.65.0 in ./myenv/lib/python3.12/site-packages (from chromadb>=0.5.0->chroma-haystack) (4.66.5)\n",
      "Requirement already satisfied: overrides>=7.3.1 in ./myenv/lib/python3.12/site-packages (from chromadb>=0.5.0->chroma-haystack) (7.7.0)\n",
      "Requirement already satisfied: importlib-resources in ./myenv/lib/python3.12/site-packages (from chromadb>=0.5.0->chroma-haystack) (6.4.5)\n",
      "Requirement already satisfied: grpcio>=1.58.0 in ./myenv/lib/python3.12/site-packages (from chromadb>=0.5.0->chroma-haystack) (1.67.1)\n",
      "Requirement already satisfied: bcrypt>=4.0.1 in ./myenv/lib/python3.12/site-packages (from chromadb>=0.5.0->chroma-haystack) (4.2.0)\n",
      "Requirement already satisfied: typer>=0.9.0 in ./myenv/lib/python3.12/site-packages (from chromadb>=0.5.0->chroma-haystack) (0.12.5)\n",
      "Requirement already satisfied: kubernetes>=28.1.0 in ./myenv/lib/python3.12/site-packages (from chromadb>=0.5.0->chroma-haystack) (31.0.0)\n",
      "Requirement already satisfied: tenacity>=8.2.3 in ./myenv/lib/python3.12/site-packages (from chromadb>=0.5.0->chroma-haystack) (9.0.0)\n",
      "Requirement already satisfied: PyYAML>=6.0.0 in ./myenv/lib/python3.12/site-packages (from chromadb>=0.5.0->chroma-haystack) (6.0.2)\n",
      "Requirement already satisfied: mmh3>=4.0.1 in ./myenv/lib/python3.12/site-packages (from chromadb>=0.5.0->chroma-haystack) (5.0.1)\n",
      "Requirement already satisfied: orjson>=3.9.12 in ./myenv/lib/python3.12/site-packages (from chromadb>=0.5.0->chroma-haystack) (3.10.9)\n",
      "Requirement already satisfied: httpx>=0.27.0 in ./myenv/lib/python3.12/site-packages (from chromadb>=0.5.0->chroma-haystack) (0.27.2)\n",
      "Requirement already satisfied: rich>=10.11.0 in ./myenv/lib/python3.12/site-packages (from chromadb>=0.5.0->chroma-haystack) (13.9.2)\n",
      "Requirement already satisfied: haystack-experimental in ./myenv/lib/python3.12/site-packages (from haystack-ai->chroma-haystack) (0.2.0)\n",
      "Requirement already satisfied: jinja2 in ./myenv/lib/python3.12/site-packages (from haystack-ai->chroma-haystack) (3.1.4)\n",
      "Requirement already satisfied: lazy-imports in ./myenv/lib/python3.12/site-packages (from haystack-ai->chroma-haystack) (0.3.1)\n",
      "Requirement already satisfied: more-itertools in ./myenv/lib/python3.12/site-packages (from haystack-ai->chroma-haystack) (10.5.0)\n",
      "Requirement already satisfied: networkx in ./myenv/lib/python3.12/site-packages (from haystack-ai->chroma-haystack) (3.4.2)\n",
      "Requirement already satisfied: openai>=1.1.0 in ./myenv/lib/python3.12/site-packages (from haystack-ai->chroma-haystack) (1.52.0)\n",
      "Requirement already satisfied: pandas in ./myenv/lib/python3.12/site-packages (from haystack-ai->chroma-haystack) (2.2.3)\n",
      "Requirement already satisfied: python-dateutil in ./myenv/lib/python3.12/site-packages (from haystack-ai->chroma-haystack) (2.9.0.post0)\n",
      "Requirement already satisfied: requests in ./myenv/lib/python3.12/site-packages (from haystack-ai->chroma-haystack) (2.32.3)\n",
      "Requirement already satisfied: packaging>=19.1 in ./myenv/lib/python3.12/site-packages (from build>=1.0.3->chromadb>=0.5.0->chroma-haystack) (24.1)\n",
      "Requirement already satisfied: pyproject_hooks in ./myenv/lib/python3.12/site-packages (from build>=1.0.3->chromadb>=0.5.0->chroma-haystack) (1.2.0)\n",
      "Requirement already satisfied: starlette<0.41.0,>=0.37.2 in ./myenv/lib/python3.12/site-packages (from fastapi>=0.95.2->chromadb>=0.5.0->chroma-haystack) (0.40.0)\n",
      "Requirement already satisfied: anyio in ./myenv/lib/python3.12/site-packages (from httpx>=0.27.0->chromadb>=0.5.0->chroma-haystack) (4.6.2.post1)\n",
      "Requirement already satisfied: certifi in ./myenv/lib/python3.12/site-packages (from httpx>=0.27.0->chromadb>=0.5.0->chroma-haystack) (2024.8.30)\n",
      "Requirement already satisfied: httpcore==1.* in ./myenv/lib/python3.12/site-packages (from httpx>=0.27.0->chromadb>=0.5.0->chroma-haystack) (1.0.6)\n",
      "Requirement already satisfied: idna in ./myenv/lib/python3.12/site-packages (from httpx>=0.27.0->chromadb>=0.5.0->chroma-haystack) (3.10)\n",
      "Requirement already satisfied: sniffio in ./myenv/lib/python3.12/site-packages (from httpx>=0.27.0->chromadb>=0.5.0->chroma-haystack) (1.3.1)\n",
      "Requirement already satisfied: h11<0.15,>=0.13 in ./myenv/lib/python3.12/site-packages (from httpcore==1.*->httpx>=0.27.0->chromadb>=0.5.0->chroma-haystack) (0.14.0)\n",
      "Requirement already satisfied: six>=1.9.0 in ./myenv/lib/python3.12/site-packages (from kubernetes>=28.1.0->chromadb>=0.5.0->chroma-haystack) (1.16.0)\n",
      "Requirement already satisfied: google-auth>=1.0.1 in ./myenv/lib/python3.12/site-packages (from kubernetes>=28.1.0->chromadb>=0.5.0->chroma-haystack) (2.35.0)\n",
      "Requirement already satisfied: websocket-client!=0.40.0,!=0.41.*,!=0.42.*,>=0.32.0 in ./myenv/lib/python3.12/site-packages (from kubernetes>=28.1.0->chromadb>=0.5.0->chroma-haystack) (1.8.0)\n",
      "Requirement already satisfied: requests-oauthlib in ./myenv/lib/python3.12/site-packages (from kubernetes>=28.1.0->chromadb>=0.5.0->chroma-haystack) (2.0.0)\n",
      "Requirement already satisfied: oauthlib>=3.2.2 in ./myenv/lib/python3.12/site-packages (from kubernetes>=28.1.0->chromadb>=0.5.0->chroma-haystack) (3.2.2)\n",
      "Requirement already satisfied: urllib3>=1.24.2 in ./myenv/lib/python3.12/site-packages (from kubernetes>=28.1.0->chromadb>=0.5.0->chroma-haystack) (2.2.3)\n",
      "Requirement already satisfied: durationpy>=0.7 in ./myenv/lib/python3.12/site-packages (from kubernetes>=28.1.0->chromadb>=0.5.0->chroma-haystack) (0.9)\n",
      "Requirement already satisfied: coloredlogs in ./myenv/lib/python3.12/site-packages (from onnxruntime>=1.14.1->chromadb>=0.5.0->chroma-haystack) (15.0.1)\n",
      "Requirement already satisfied: flatbuffers in ./myenv/lib/python3.12/site-packages (from onnxruntime>=1.14.1->chromadb>=0.5.0->chroma-haystack) (24.3.25)\n",
      "Requirement already satisfied: protobuf in ./myenv/lib/python3.12/site-packages (from onnxruntime>=1.14.1->chromadb>=0.5.0->chroma-haystack) (4.25.5)\n",
      "Requirement already satisfied: sympy in ./myenv/lib/python3.12/site-packages (from onnxruntime>=1.14.1->chromadb>=0.5.0->chroma-haystack) (1.13.1)\n",
      "Requirement already satisfied: distro<2,>=1.7.0 in ./myenv/lib/python3.12/site-packages (from openai>=1.1.0->haystack-ai->chroma-haystack) (1.9.0)\n",
      "Requirement already satisfied: jiter<1,>=0.4.0 in ./myenv/lib/python3.12/site-packages (from openai>=1.1.0->haystack-ai->chroma-haystack) (0.6.1)\n",
      "Requirement already satisfied: deprecated>=1.2.6 in ./myenv/lib/python3.12/site-packages (from opentelemetry-api>=1.2.0->chromadb>=0.5.0->chroma-haystack) (1.2.14)\n",
      "Requirement already satisfied: importlib-metadata<=8.4.0,>=6.0 in ./myenv/lib/python3.12/site-packages (from opentelemetry-api>=1.2.0->chromadb>=0.5.0->chroma-haystack) (8.4.0)\n",
      "Requirement already satisfied: googleapis-common-protos~=1.52 in ./myenv/lib/python3.12/site-packages (from opentelemetry-exporter-otlp-proto-grpc>=1.2.0->chromadb>=0.5.0->chroma-haystack) (1.65.0)\n",
      "Requirement already satisfied: opentelemetry-exporter-otlp-proto-common==1.27.0 in ./myenv/lib/python3.12/site-packages (from opentelemetry-exporter-otlp-proto-grpc>=1.2.0->chromadb>=0.5.0->chroma-haystack) (1.27.0)\n",
      "Requirement already satisfied: opentelemetry-proto==1.27.0 in ./myenv/lib/python3.12/site-packages (from opentelemetry-exporter-otlp-proto-grpc>=1.2.0->chromadb>=0.5.0->chroma-haystack) (1.27.0)\n",
      "Requirement already satisfied: opentelemetry-instrumentation-asgi==0.48b0 in ./myenv/lib/python3.12/site-packages (from opentelemetry-instrumentation-fastapi>=0.41b0->chromadb>=0.5.0->chroma-haystack) (0.48b0)\n",
      "Requirement already satisfied: opentelemetry-instrumentation==0.48b0 in ./myenv/lib/python3.12/site-packages (from opentelemetry-instrumentation-fastapi>=0.41b0->chromadb>=0.5.0->chroma-haystack) (0.48b0)\n",
      "Requirement already satisfied: opentelemetry-semantic-conventions==0.48b0 in ./myenv/lib/python3.12/site-packages (from opentelemetry-instrumentation-fastapi>=0.41b0->chromadb>=0.5.0->chroma-haystack) (0.48b0)\n",
      "Requirement already satisfied: opentelemetry-util-http==0.48b0 in ./myenv/lib/python3.12/site-packages (from opentelemetry-instrumentation-fastapi>=0.41b0->chromadb>=0.5.0->chroma-haystack) (0.48b0)\n",
      "Requirement already satisfied: setuptools>=16.0 in ./myenv/lib/python3.12/site-packages (from opentelemetry-instrumentation==0.48b0->opentelemetry-instrumentation-fastapi>=0.41b0->chromadb>=0.5.0->chroma-haystack) (75.2.0)\n",
      "Requirement already satisfied: wrapt<2.0.0,>=1.0.0 in ./myenv/lib/python3.12/site-packages (from opentelemetry-instrumentation==0.48b0->opentelemetry-instrumentation-fastapi>=0.41b0->chromadb>=0.5.0->chroma-haystack) (1.16.0)\n",
      "Requirement already satisfied: asgiref~=3.0 in ./myenv/lib/python3.12/site-packages (from opentelemetry-instrumentation-asgi==0.48b0->opentelemetry-instrumentation-fastapi>=0.41b0->chromadb>=0.5.0->chroma-haystack) (3.8.1)\n",
      "Requirement already satisfied: monotonic>=1.5 in ./myenv/lib/python3.12/site-packages (from posthog>=2.4.0->chromadb>=0.5.0->chroma-haystack) (1.6)\n",
      "Requirement already satisfied: backoff>=1.10.0 in ./myenv/lib/python3.12/site-packages (from posthog>=2.4.0->chromadb>=0.5.0->chroma-haystack) (2.2.1)\n",
      "Requirement already satisfied: annotated-types>=0.6.0 in ./myenv/lib/python3.12/site-packages (from pydantic>=1.9->chromadb>=0.5.0->chroma-haystack) (0.7.0)\n",
      "Requirement already satisfied: pydantic-core==2.23.4 in ./myenv/lib/python3.12/site-packages (from pydantic>=1.9->chromadb>=0.5.0->chroma-haystack) (2.23.4)\n",
      "Requirement already satisfied: charset-normalizer<4,>=2 in ./myenv/lib/python3.12/site-packages (from requests->haystack-ai->chroma-haystack) (3.4.0)\n",
      "Requirement already satisfied: markdown-it-py>=2.2.0 in ./myenv/lib/python3.12/site-packages (from rich>=10.11.0->chromadb>=0.5.0->chroma-haystack) (3.0.0)\n",
      "Requirement already satisfied: pygments<3.0.0,>=2.13.0 in ./myenv/lib/python3.12/site-packages (from rich>=10.11.0->chromadb>=0.5.0->chroma-haystack) (2.18.0)\n",
      "Requirement already satisfied: huggingface-hub<1.0,>=0.16.4 in ./myenv/lib/python3.12/site-packages (from tokenizers>=0.13.2->chromadb>=0.5.0->chroma-haystack) (0.26.1)\n",
      "Requirement already satisfied: click>=8.0.0 in ./myenv/lib/python3.12/site-packages (from typer>=0.9.0->chromadb>=0.5.0->chroma-haystack) (8.1.7)\n",
      "Requirement already satisfied: shellingham>=1.3.0 in ./myenv/lib/python3.12/site-packages (from typer>=0.9.0->chromadb>=0.5.0->chroma-haystack) (1.5.4)\n",
      "Requirement already satisfied: httptools>=0.5.0 in ./myenv/lib/python3.12/site-packages (from uvicorn[standard]>=0.18.3->chromadb>=0.5.0->chroma-haystack) (0.6.4)\n",
      "Requirement already satisfied: python-dotenv>=0.13 in ./myenv/lib/python3.12/site-packages (from uvicorn[standard]>=0.18.3->chromadb>=0.5.0->chroma-haystack) (1.0.1)\n",
      "Requirement already satisfied: uvloop!=0.15.0,!=0.15.1,>=0.14.0 in ./myenv/lib/python3.12/site-packages (from uvicorn[standard]>=0.18.3->chromadb>=0.5.0->chroma-haystack) (0.21.0)\n",
      "Requirement already satisfied: watchfiles>=0.13 in ./myenv/lib/python3.12/site-packages (from uvicorn[standard]>=0.18.3->chromadb>=0.5.0->chroma-haystack) (0.24.0)\n",
      "Requirement already satisfied: websockets>=10.4 in ./myenv/lib/python3.12/site-packages (from uvicorn[standard]>=0.18.3->chromadb>=0.5.0->chroma-haystack) (12.0)\n",
      "Requirement already satisfied: MarkupSafe>=2.0 in ./myenv/lib/python3.12/site-packages (from jinja2->haystack-ai->chroma-haystack) (2.1.5)\n",
      "Requirement already satisfied: pytz>=2020.1 in ./myenv/lib/python3.12/site-packages (from pandas->haystack-ai->chroma-haystack) (2024.2)\n",
      "Requirement already satisfied: tzdata>=2022.7 in ./myenv/lib/python3.12/site-packages (from pandas->haystack-ai->chroma-haystack) (2024.2)\n",
      "Requirement already satisfied: cachetools<6.0,>=2.0.0 in ./myenv/lib/python3.12/site-packages (from google-auth>=1.0.1->kubernetes>=28.1.0->chromadb>=0.5.0->chroma-haystack) (5.5.0)\n",
      "Requirement already satisfied: pyasn1-modules>=0.2.1 in ./myenv/lib/python3.12/site-packages (from google-auth>=1.0.1->kubernetes>=28.1.0->chromadb>=0.5.0->chroma-haystack) (0.4.1)\n",
      "Requirement already satisfied: rsa<5,>=3.1.4 in ./myenv/lib/python3.12/site-packages (from google-auth>=1.0.1->kubernetes>=28.1.0->chromadb>=0.5.0->chroma-haystack) (4.9)\n",
      "Requirement already satisfied: filelock in ./myenv/lib/python3.12/site-packages (from huggingface-hub<1.0,>=0.16.4->tokenizers>=0.13.2->chromadb>=0.5.0->chroma-haystack) (3.16.1)\n",
      "Requirement already satisfied: fsspec>=2023.5.0 in ./myenv/lib/python3.12/site-packages (from huggingface-hub<1.0,>=0.16.4->tokenizers>=0.13.2->chromadb>=0.5.0->chroma-haystack) (2024.6.1)\n",
      "Requirement already satisfied: zipp>=0.5 in ./myenv/lib/python3.12/site-packages (from importlib-metadata<=8.4.0,>=6.0->opentelemetry-api>=1.2.0->chromadb>=0.5.0->chroma-haystack) (3.20.2)\n",
      "Requirement already satisfied: mdurl~=0.1 in ./myenv/lib/python3.12/site-packages (from markdown-it-py>=2.2.0->rich>=10.11.0->chromadb>=0.5.0->chroma-haystack) (0.1.2)\n",
      "Requirement already satisfied: humanfriendly>=9.1 in ./myenv/lib/python3.12/site-packages (from coloredlogs->onnxruntime>=1.14.1->chromadb>=0.5.0->chroma-haystack) (10.0)\n",
      "Requirement already satisfied: mpmath<1.4,>=1.1.0 in ./myenv/lib/python3.12/site-packages (from sympy->onnxruntime>=1.14.1->chromadb>=0.5.0->chroma-haystack) (1.3.0)\n",
      "Requirement already satisfied: pyasn1<0.7.0,>=0.4.6 in ./myenv/lib/python3.12/site-packages (from pyasn1-modules>=0.2.1->google-auth>=1.0.1->kubernetes>=28.1.0->chromadb>=0.5.0->chroma-haystack) (0.6.1)\n",
      "Downloading chroma_haystack-0.22.1-py3-none-any.whl (16 kB)\n",
      "Installing collected packages: chroma-haystack\n",
      "Successfully installed chroma-haystack-0.22.1\n"
     ]
    }
   ],
   "source": [
    "!pip install chroma-haystack"
   ]
  },
  {
   "cell_type": "code",
   "execution_count": 1,
   "metadata": {
    "scrolled": true
   },
   "outputs": [
    {
     "name": "stdout",
     "output_type": "stream",
     "text": [
      "Requirement already satisfied: transformers[sentencepiece,torch] in ./myenv/lib/python3.12/site-packages (4.45.2)\n",
      "Requirement already satisfied: filelock in ./myenv/lib/python3.12/site-packages (from transformers[sentencepiece,torch]) (3.16.1)\n",
      "Requirement already satisfied: huggingface-hub<1.0,>=0.23.2 in ./myenv/lib/python3.12/site-packages (from transformers[sentencepiece,torch]) (0.26.1)\n",
      "Requirement already satisfied: numpy>=1.17 in ./myenv/lib/python3.12/site-packages (from transformers[sentencepiece,torch]) (1.26.4)\n",
      "Requirement already satisfied: packaging>=20.0 in ./myenv/lib/python3.12/site-packages (from transformers[sentencepiece,torch]) (24.1)\n",
      "Requirement already satisfied: pyyaml>=5.1 in ./myenv/lib/python3.12/site-packages (from transformers[sentencepiece,torch]) (6.0.2)\n",
      "Requirement already satisfied: regex!=2019.12.17 in ./myenv/lib/python3.12/site-packages (from transformers[sentencepiece,torch]) (2024.9.11)\n",
      "Requirement already satisfied: requests in ./myenv/lib/python3.12/site-packages (from transformers[sentencepiece,torch]) (2.32.3)\n",
      "Requirement already satisfied: safetensors>=0.4.1 in ./myenv/lib/python3.12/site-packages (from transformers[sentencepiece,torch]) (0.4.5)\n",
      "Requirement already satisfied: tokenizers<0.21,>=0.20 in ./myenv/lib/python3.12/site-packages (from transformers[sentencepiece,torch]) (0.20.1)\n",
      "Requirement already satisfied: tqdm>=4.27 in ./myenv/lib/python3.12/site-packages (from transformers[sentencepiece,torch]) (4.66.5)\n",
      "Requirement already satisfied: protobuf in ./myenv/lib/python3.12/site-packages (from transformers[sentencepiece,torch]) (5.28.2)\n",
      "Requirement already satisfied: sentencepiece!=0.1.92,>=0.1.91 in ./myenv/lib/python3.12/site-packages (from transformers[sentencepiece,torch]) (0.2.0)\n",
      "Requirement already satisfied: accelerate>=0.26.0 in ./myenv/lib/python3.12/site-packages (from transformers[sentencepiece,torch]) (1.0.1)\n",
      "Requirement already satisfied: torch in ./myenv/lib/python3.12/site-packages (from transformers[sentencepiece,torch]) (2.5.0)\n",
      "Requirement already satisfied: psutil in ./myenv/lib/python3.12/site-packages (from accelerate>=0.26.0->transformers[sentencepiece,torch]) (6.1.0)\n",
      "Requirement already satisfied: fsspec>=2023.5.0 in ./myenv/lib/python3.12/site-packages (from huggingface-hub<1.0,>=0.23.2->transformers[sentencepiece,torch]) (2024.6.1)\n",
      "Requirement already satisfied: typing-extensions>=3.7.4.3 in ./myenv/lib/python3.12/site-packages (from huggingface-hub<1.0,>=0.23.2->transformers[sentencepiece,torch]) (4.12.2)\n",
      "Requirement already satisfied: networkx in ./myenv/lib/python3.12/site-packages (from torch->transformers[sentencepiece,torch]) (3.4.2)\n",
      "Requirement already satisfied: jinja2 in ./myenv/lib/python3.12/site-packages (from torch->transformers[sentencepiece,torch]) (3.1.4)\n",
      "Requirement already satisfied: nvidia-cuda-nvrtc-cu12==12.4.127 in ./myenv/lib/python3.12/site-packages (from torch->transformers[sentencepiece,torch]) (12.4.127)\n",
      "Requirement already satisfied: nvidia-cuda-runtime-cu12==12.4.127 in ./myenv/lib/python3.12/site-packages (from torch->transformers[sentencepiece,torch]) (12.4.127)\n",
      "Requirement already satisfied: nvidia-cuda-cupti-cu12==12.4.127 in ./myenv/lib/python3.12/site-packages (from torch->transformers[sentencepiece,torch]) (12.4.127)\n",
      "Requirement already satisfied: nvidia-cudnn-cu12==9.1.0.70 in ./myenv/lib/python3.12/site-packages (from torch->transformers[sentencepiece,torch]) (9.1.0.70)\n",
      "Requirement already satisfied: nvidia-cublas-cu12==12.4.5.8 in ./myenv/lib/python3.12/site-packages (from torch->transformers[sentencepiece,torch]) (12.4.5.8)\n",
      "Requirement already satisfied: nvidia-cufft-cu12==11.2.1.3 in ./myenv/lib/python3.12/site-packages (from torch->transformers[sentencepiece,torch]) (11.2.1.3)\n",
      "Requirement already satisfied: nvidia-curand-cu12==10.3.5.147 in ./myenv/lib/python3.12/site-packages (from torch->transformers[sentencepiece,torch]) (10.3.5.147)\n",
      "Requirement already satisfied: nvidia-cusolver-cu12==11.6.1.9 in ./myenv/lib/python3.12/site-packages (from torch->transformers[sentencepiece,torch]) (11.6.1.9)\n",
      "Requirement already satisfied: nvidia-cusparse-cu12==12.3.1.170 in ./myenv/lib/python3.12/site-packages (from torch->transformers[sentencepiece,torch]) (12.3.1.170)\n",
      "Requirement already satisfied: nvidia-nccl-cu12==2.21.5 in ./myenv/lib/python3.12/site-packages (from torch->transformers[sentencepiece,torch]) (2.21.5)\n",
      "Requirement already satisfied: nvidia-nvtx-cu12==12.4.127 in ./myenv/lib/python3.12/site-packages (from torch->transformers[sentencepiece,torch]) (12.4.127)\n",
      "Requirement already satisfied: nvidia-nvjitlink-cu12==12.4.127 in ./myenv/lib/python3.12/site-packages (from torch->transformers[sentencepiece,torch]) (12.4.127)\n",
      "Requirement already satisfied: triton==3.1.0 in ./myenv/lib/python3.12/site-packages (from torch->transformers[sentencepiece,torch]) (3.1.0)\n",
      "Requirement already satisfied: setuptools in ./myenv/lib/python3.12/site-packages (from torch->transformers[sentencepiece,torch]) (75.2.0)\n",
      "Requirement already satisfied: sympy==1.13.1 in ./myenv/lib/python3.12/site-packages (from torch->transformers[sentencepiece,torch]) (1.13.1)\n",
      "Requirement already satisfied: mpmath<1.4,>=1.1.0 in ./myenv/lib/python3.12/site-packages (from sympy==1.13.1->torch->transformers[sentencepiece,torch]) (1.3.0)\n",
      "Requirement already satisfied: charset-normalizer<4,>=2 in ./myenv/lib/python3.12/site-packages (from requests->transformers[sentencepiece,torch]) (3.4.0)\n",
      "Requirement already satisfied: idna<4,>=2.5 in ./myenv/lib/python3.12/site-packages (from requests->transformers[sentencepiece,torch]) (3.10)\n",
      "Requirement already satisfied: urllib3<3,>=1.21.1 in ./myenv/lib/python3.12/site-packages (from requests->transformers[sentencepiece,torch]) (2.2.3)\n",
      "Requirement already satisfied: certifi>=2017.4.17 in ./myenv/lib/python3.12/site-packages (from requests->transformers[sentencepiece,torch]) (2024.8.30)\n",
      "Requirement already satisfied: MarkupSafe>=2.0 in ./myenv/lib/python3.12/site-packages (from jinja2->torch->transformers[sentencepiece,torch]) (2.1.5)\n"
     ]
    }
   ],
   "source": [
    "!pip install transformers[torch,sentencepiece]"
   ]
  },
  {
   "cell_type": "code",
   "execution_count": 2,
   "metadata": {
    "colab": {
     "base_uri": "https://localhost:8080/"
    },
    "id": "n69W225nStyt",
    "outputId": "881fa007-cc96-4d98-acfd-18de214b2ad0",
    "scrolled": true
   },
   "outputs": [
    {
     "name": "stdout",
     "output_type": "stream",
     "text": [
      "Requirement already satisfied: sentence-transformers>=3.0.0 in ./myenv/lib/python3.12/site-packages (3.2.1)\n",
      "Requirement already satisfied: transformers<5.0.0,>=4.41.0 in ./myenv/lib/python3.12/site-packages (from sentence-transformers>=3.0.0) (4.45.2)\n",
      "Requirement already satisfied: tqdm in ./myenv/lib/python3.12/site-packages (from sentence-transformers>=3.0.0) (4.66.5)\n",
      "Requirement already satisfied: torch>=1.11.0 in ./myenv/lib/python3.12/site-packages (from sentence-transformers>=3.0.0) (2.5.0)\n",
      "Requirement already satisfied: scikit-learn in ./myenv/lib/python3.12/site-packages (from sentence-transformers>=3.0.0) (1.5.2)\n",
      "Requirement already satisfied: scipy in ./myenv/lib/python3.12/site-packages (from sentence-transformers>=3.0.0) (1.14.1)\n",
      "Requirement already satisfied: huggingface-hub>=0.20.0 in ./myenv/lib/python3.12/site-packages (from sentence-transformers>=3.0.0) (0.26.1)\n",
      "Requirement already satisfied: Pillow in ./myenv/lib/python3.12/site-packages (from sentence-transformers>=3.0.0) (10.4.0)\n",
      "Requirement already satisfied: filelock in ./myenv/lib/python3.12/site-packages (from huggingface-hub>=0.20.0->sentence-transformers>=3.0.0) (3.16.1)\n",
      "Requirement already satisfied: fsspec>=2023.5.0 in ./myenv/lib/python3.12/site-packages (from huggingface-hub>=0.20.0->sentence-transformers>=3.0.0) (2024.6.1)\n",
      "Requirement already satisfied: packaging>=20.9 in ./myenv/lib/python3.12/site-packages (from huggingface-hub>=0.20.0->sentence-transformers>=3.0.0) (24.1)\n",
      "Requirement already satisfied: pyyaml>=5.1 in ./myenv/lib/python3.12/site-packages (from huggingface-hub>=0.20.0->sentence-transformers>=3.0.0) (6.0.2)\n",
      "Requirement already satisfied: requests in ./myenv/lib/python3.12/site-packages (from huggingface-hub>=0.20.0->sentence-transformers>=3.0.0) (2.32.3)\n",
      "Requirement already satisfied: typing-extensions>=3.7.4.3 in ./myenv/lib/python3.12/site-packages (from huggingface-hub>=0.20.0->sentence-transformers>=3.0.0) (4.12.2)\n",
      "Requirement already satisfied: networkx in ./myenv/lib/python3.12/site-packages (from torch>=1.11.0->sentence-transformers>=3.0.0) (3.4.2)\n",
      "Requirement already satisfied: jinja2 in ./myenv/lib/python3.12/site-packages (from torch>=1.11.0->sentence-transformers>=3.0.0) (3.1.4)\n",
      "Requirement already satisfied: nvidia-cuda-nvrtc-cu12==12.4.127 in ./myenv/lib/python3.12/site-packages (from torch>=1.11.0->sentence-transformers>=3.0.0) (12.4.127)\n",
      "Requirement already satisfied: nvidia-cuda-runtime-cu12==12.4.127 in ./myenv/lib/python3.12/site-packages (from torch>=1.11.0->sentence-transformers>=3.0.0) (12.4.127)\n",
      "Requirement already satisfied: nvidia-cuda-cupti-cu12==12.4.127 in ./myenv/lib/python3.12/site-packages (from torch>=1.11.0->sentence-transformers>=3.0.0) (12.4.127)\n",
      "Requirement already satisfied: nvidia-cudnn-cu12==9.1.0.70 in ./myenv/lib/python3.12/site-packages (from torch>=1.11.0->sentence-transformers>=3.0.0) (9.1.0.70)\n",
      "Requirement already satisfied: nvidia-cublas-cu12==12.4.5.8 in ./myenv/lib/python3.12/site-packages (from torch>=1.11.0->sentence-transformers>=3.0.0) (12.4.5.8)\n",
      "Requirement already satisfied: nvidia-cufft-cu12==11.2.1.3 in ./myenv/lib/python3.12/site-packages (from torch>=1.11.0->sentence-transformers>=3.0.0) (11.2.1.3)\n",
      "Requirement already satisfied: nvidia-curand-cu12==10.3.5.147 in ./myenv/lib/python3.12/site-packages (from torch>=1.11.0->sentence-transformers>=3.0.0) (10.3.5.147)\n",
      "Requirement already satisfied: nvidia-cusolver-cu12==11.6.1.9 in ./myenv/lib/python3.12/site-packages (from torch>=1.11.0->sentence-transformers>=3.0.0) (11.6.1.9)\n",
      "Requirement already satisfied: nvidia-cusparse-cu12==12.3.1.170 in ./myenv/lib/python3.12/site-packages (from torch>=1.11.0->sentence-transformers>=3.0.0) (12.3.1.170)\n",
      "Requirement already satisfied: nvidia-nccl-cu12==2.21.5 in ./myenv/lib/python3.12/site-packages (from torch>=1.11.0->sentence-transformers>=3.0.0) (2.21.5)\n",
      "Requirement already satisfied: nvidia-nvtx-cu12==12.4.127 in ./myenv/lib/python3.12/site-packages (from torch>=1.11.0->sentence-transformers>=3.0.0) (12.4.127)\n",
      "Requirement already satisfied: nvidia-nvjitlink-cu12==12.4.127 in ./myenv/lib/python3.12/site-packages (from torch>=1.11.0->sentence-transformers>=3.0.0) (12.4.127)\n",
      "Requirement already satisfied: triton==3.1.0 in ./myenv/lib/python3.12/site-packages (from torch>=1.11.0->sentence-transformers>=3.0.0) (3.1.0)\n",
      "Requirement already satisfied: setuptools in ./myenv/lib/python3.12/site-packages (from torch>=1.11.0->sentence-transformers>=3.0.0) (75.2.0)\n",
      "Requirement already satisfied: sympy==1.13.1 in ./myenv/lib/python3.12/site-packages (from torch>=1.11.0->sentence-transformers>=3.0.0) (1.13.1)\n",
      "Requirement already satisfied: mpmath<1.4,>=1.1.0 in ./myenv/lib/python3.12/site-packages (from sympy==1.13.1->torch>=1.11.0->sentence-transformers>=3.0.0) (1.3.0)\n",
      "Requirement already satisfied: numpy>=1.17 in ./myenv/lib/python3.12/site-packages (from transformers<5.0.0,>=4.41.0->sentence-transformers>=3.0.0) (1.26.4)\n",
      "Requirement already satisfied: regex!=2019.12.17 in ./myenv/lib/python3.12/site-packages (from transformers<5.0.0,>=4.41.0->sentence-transformers>=3.0.0) (2024.9.11)\n",
      "Requirement already satisfied: safetensors>=0.4.1 in ./myenv/lib/python3.12/site-packages (from transformers<5.0.0,>=4.41.0->sentence-transformers>=3.0.0) (0.4.5)\n",
      "Requirement already satisfied: tokenizers<0.21,>=0.20 in ./myenv/lib/python3.12/site-packages (from transformers<5.0.0,>=4.41.0->sentence-transformers>=3.0.0) (0.20.1)\n",
      "Requirement already satisfied: joblib>=1.2.0 in ./myenv/lib/python3.12/site-packages (from scikit-learn->sentence-transformers>=3.0.0) (1.4.2)\n",
      "Requirement already satisfied: threadpoolctl>=3.1.0 in ./myenv/lib/python3.12/site-packages (from scikit-learn->sentence-transformers>=3.0.0) (3.5.0)\n",
      "Requirement already satisfied: MarkupSafe>=2.0 in ./myenv/lib/python3.12/site-packages (from jinja2->torch>=1.11.0->sentence-transformers>=3.0.0) (2.1.5)\n",
      "Requirement already satisfied: charset-normalizer<4,>=2 in ./myenv/lib/python3.12/site-packages (from requests->huggingface-hub>=0.20.0->sentence-transformers>=3.0.0) (3.4.0)\n",
      "Requirement already satisfied: idna<4,>=2.5 in ./myenv/lib/python3.12/site-packages (from requests->huggingface-hub>=0.20.0->sentence-transformers>=3.0.0) (3.10)\n",
      "Requirement already satisfied: urllib3<3,>=1.21.1 in ./myenv/lib/python3.12/site-packages (from requests->huggingface-hub>=0.20.0->sentence-transformers>=3.0.0) (2.2.3)\n",
      "Requirement already satisfied: certifi>=2017.4.17 in ./myenv/lib/python3.12/site-packages (from requests->huggingface-hub>=0.20.0->sentence-transformers>=3.0.0) (2024.8.30)\n"
     ]
    }
   ],
   "source": [
    "!pip install \"sentence-transformers>=3.0.0\""
   ]
  },
  {
   "cell_type": "code",
   "execution_count": 3,
   "metadata": {
    "colab": {
     "base_uri": "https://localhost:8080/"
    },
    "id": "s70_4Y8IiHC4",
    "outputId": "4e81d656-6ce8-491e-bf19-c8ebf09a33c3",
    "scrolled": true
   },
   "outputs": [
    {
     "name": "stdout",
     "output_type": "stream",
     "text": [
      "Requirement already satisfied: haystack-ai in ./myenv/lib/python3.12/site-packages (2.6.1)\n",
      "Requirement already satisfied: datasets in ./myenv/lib/python3.12/site-packages (3.0.1)\n",
      "Requirement already satisfied: ollama-haystack in ./myenv/lib/python3.12/site-packages (1.1.0)\n",
      "Requirement already satisfied: gradio in ./myenv/lib/python3.12/site-packages (5.1.0)\n",
      "Requirement already satisfied: haystack-experimental in ./myenv/lib/python3.12/site-packages (from haystack-ai) (0.2.0)\n",
      "Requirement already satisfied: jinja2 in ./myenv/lib/python3.12/site-packages (from haystack-ai) (3.1.4)\n",
      "Requirement already satisfied: lazy-imports in ./myenv/lib/python3.12/site-packages (from haystack-ai) (0.3.1)\n",
      "Requirement already satisfied: more-itertools in ./myenv/lib/python3.12/site-packages (from haystack-ai) (10.5.0)\n",
      "Requirement already satisfied: networkx in ./myenv/lib/python3.12/site-packages (from haystack-ai) (3.4.2)\n",
      "Requirement already satisfied: numpy<2 in ./myenv/lib/python3.12/site-packages (from haystack-ai) (1.26.4)\n",
      "Requirement already satisfied: openai>=1.1.0 in ./myenv/lib/python3.12/site-packages (from haystack-ai) (1.52.0)\n",
      "Requirement already satisfied: pandas in ./myenv/lib/python3.12/site-packages (from haystack-ai) (2.2.3)\n",
      "Requirement already satisfied: posthog in ./myenv/lib/python3.12/site-packages (from haystack-ai) (3.7.0)\n",
      "Requirement already satisfied: python-dateutil in ./myenv/lib/python3.12/site-packages (from haystack-ai) (2.9.0.post0)\n",
      "Requirement already satisfied: pyyaml in ./myenv/lib/python3.12/site-packages (from haystack-ai) (6.0.2)\n",
      "Requirement already satisfied: requests in ./myenv/lib/python3.12/site-packages (from haystack-ai) (2.32.3)\n",
      "Requirement already satisfied: tenacity!=8.4.0 in ./myenv/lib/python3.12/site-packages (from haystack-ai) (9.0.0)\n",
      "Requirement already satisfied: tqdm in ./myenv/lib/python3.12/site-packages (from haystack-ai) (4.66.5)\n",
      "Requirement already satisfied: typing-extensions>=4.7 in ./myenv/lib/python3.12/site-packages (from haystack-ai) (4.12.2)\n",
      "Requirement already satisfied: filelock in ./myenv/lib/python3.12/site-packages (from datasets) (3.16.1)\n",
      "Requirement already satisfied: pyarrow>=15.0.0 in ./myenv/lib/python3.12/site-packages (from datasets) (17.0.0)\n",
      "Requirement already satisfied: dill<0.3.9,>=0.3.0 in ./myenv/lib/python3.12/site-packages (from datasets) (0.3.8)\n",
      "Requirement already satisfied: xxhash in ./myenv/lib/python3.12/site-packages (from datasets) (3.5.0)\n",
      "Requirement already satisfied: multiprocess in ./myenv/lib/python3.12/site-packages (from datasets) (0.70.16)\n",
      "Requirement already satisfied: fsspec<=2024.6.1,>=2023.1.0 in ./myenv/lib/python3.12/site-packages (from fsspec[http]<=2024.6.1,>=2023.1.0->datasets) (2024.6.1)\n",
      "Requirement already satisfied: aiohttp in ./myenv/lib/python3.12/site-packages (from datasets) (3.10.10)\n",
      "Requirement already satisfied: huggingface-hub>=0.22.0 in ./myenv/lib/python3.12/site-packages (from datasets) (0.26.1)\n",
      "Requirement already satisfied: packaging in ./myenv/lib/python3.12/site-packages (from datasets) (24.1)\n",
      "Requirement already satisfied: ollama in ./myenv/lib/python3.12/site-packages (from ollama-haystack) (0.3.3)\n",
      "Requirement already satisfied: aiofiles<24.0,>=22.0 in ./myenv/lib/python3.12/site-packages (from gradio) (23.2.1)\n",
      "Requirement already satisfied: anyio<5.0,>=3.0 in ./myenv/lib/python3.12/site-packages (from gradio) (4.6.2.post1)\n",
      "Requirement already satisfied: fastapi<1.0 in ./myenv/lib/python3.12/site-packages (from gradio) (0.115.2)\n",
      "Requirement already satisfied: ffmpy in ./myenv/lib/python3.12/site-packages (from gradio) (0.4.0)\n",
      "Requirement already satisfied: gradio-client==1.4.0 in ./myenv/lib/python3.12/site-packages (from gradio) (1.4.0)\n",
      "Requirement already satisfied: httpx>=0.24.1 in ./myenv/lib/python3.12/site-packages (from gradio) (0.27.2)\n",
      "Requirement already satisfied: markupsafe~=2.0 in ./myenv/lib/python3.12/site-packages (from gradio) (2.1.5)\n",
      "Requirement already satisfied: orjson~=3.0 in ./myenv/lib/python3.12/site-packages (from gradio) (3.10.9)\n",
      "Requirement already satisfied: pillow<11.0,>=8.0 in ./myenv/lib/python3.12/site-packages (from gradio) (10.4.0)\n",
      "Requirement already satisfied: pydantic>=2.0 in ./myenv/lib/python3.12/site-packages (from gradio) (2.9.2)\n",
      "Requirement already satisfied: pydub in ./myenv/lib/python3.12/site-packages (from gradio) (0.25.1)\n",
      "Requirement already satisfied: python-multipart>=0.0.9 in ./myenv/lib/python3.12/site-packages (from gradio) (0.0.12)\n",
      "Requirement already satisfied: ruff>=0.2.2 in ./myenv/lib/python3.12/site-packages (from gradio) (0.7.0)\n",
      "Requirement already satisfied: semantic-version~=2.0 in ./myenv/lib/python3.12/site-packages (from gradio) (2.10.0)\n",
      "Requirement already satisfied: tomlkit==0.12.0 in ./myenv/lib/python3.12/site-packages (from gradio) (0.12.0)\n",
      "Requirement already satisfied: typer<1.0,>=0.12 in ./myenv/lib/python3.12/site-packages (from gradio) (0.12.5)\n",
      "Requirement already satisfied: uvicorn>=0.14.0 in ./myenv/lib/python3.12/site-packages (from gradio) (0.32.0)\n",
      "Requirement already satisfied: websockets<13.0,>=10.0 in ./myenv/lib/python3.12/site-packages (from gradio-client==1.4.0->gradio) (12.0)\n",
      "Requirement already satisfied: idna>=2.8 in ./myenv/lib/python3.12/site-packages (from anyio<5.0,>=3.0->gradio) (3.10)\n",
      "Requirement already satisfied: sniffio>=1.1 in ./myenv/lib/python3.12/site-packages (from anyio<5.0,>=3.0->gradio) (1.3.1)\n",
      "Requirement already satisfied: starlette<0.41.0,>=0.37.2 in ./myenv/lib/python3.12/site-packages (from fastapi<1.0->gradio) (0.40.0)\n",
      "Requirement already satisfied: aiohappyeyeballs>=2.3.0 in ./myenv/lib/python3.12/site-packages (from aiohttp->datasets) (2.4.3)\n",
      "Requirement already satisfied: aiosignal>=1.1.2 in ./myenv/lib/python3.12/site-packages (from aiohttp->datasets) (1.3.1)\n",
      "Requirement already satisfied: attrs>=17.3.0 in ./myenv/lib/python3.12/site-packages (from aiohttp->datasets) (24.2.0)\n",
      "Requirement already satisfied: frozenlist>=1.1.1 in ./myenv/lib/python3.12/site-packages (from aiohttp->datasets) (1.4.1)\n",
      "Requirement already satisfied: multidict<7.0,>=4.5 in ./myenv/lib/python3.12/site-packages (from aiohttp->datasets) (6.1.0)\n",
      "Requirement already satisfied: yarl<2.0,>=1.12.0 in ./myenv/lib/python3.12/site-packages (from aiohttp->datasets) (1.16.0)\n",
      "Requirement already satisfied: certifi in ./myenv/lib/python3.12/site-packages (from httpx>=0.24.1->gradio) (2024.8.30)\n",
      "Requirement already satisfied: httpcore==1.* in ./myenv/lib/python3.12/site-packages (from httpx>=0.24.1->gradio) (1.0.6)\n",
      "Requirement already satisfied: h11<0.15,>=0.13 in ./myenv/lib/python3.12/site-packages (from httpcore==1.*->httpx>=0.24.1->gradio) (0.14.0)\n",
      "Requirement already satisfied: distro<2,>=1.7.0 in ./myenv/lib/python3.12/site-packages (from openai>=1.1.0->haystack-ai) (1.9.0)\n",
      "Requirement already satisfied: jiter<1,>=0.4.0 in ./myenv/lib/python3.12/site-packages (from openai>=1.1.0->haystack-ai) (0.6.1)\n",
      "Requirement already satisfied: pytz>=2020.1 in ./myenv/lib/python3.12/site-packages (from pandas->haystack-ai) (2024.2)\n",
      "Requirement already satisfied: tzdata>=2022.7 in ./myenv/lib/python3.12/site-packages (from pandas->haystack-ai) (2024.2)\n",
      "Requirement already satisfied: annotated-types>=0.6.0 in ./myenv/lib/python3.12/site-packages (from pydantic>=2.0->gradio) (0.7.0)\n",
      "Requirement already satisfied: pydantic-core==2.23.4 in ./myenv/lib/python3.12/site-packages (from pydantic>=2.0->gradio) (2.23.4)\n",
      "Requirement already satisfied: six>=1.5 in ./myenv/lib/python3.12/site-packages (from python-dateutil->haystack-ai) (1.16.0)\n",
      "Requirement already satisfied: charset-normalizer<4,>=2 in ./myenv/lib/python3.12/site-packages (from requests->haystack-ai) (3.4.0)\n",
      "Requirement already satisfied: urllib3<3,>=1.21.1 in ./myenv/lib/python3.12/site-packages (from requests->haystack-ai) (2.2.3)\n",
      "Requirement already satisfied: click>=8.0.0 in ./myenv/lib/python3.12/site-packages (from typer<1.0,>=0.12->gradio) (8.1.7)\n",
      "Requirement already satisfied: shellingham>=1.3.0 in ./myenv/lib/python3.12/site-packages (from typer<1.0,>=0.12->gradio) (1.5.4)\n",
      "Requirement already satisfied: rich>=10.11.0 in ./myenv/lib/python3.12/site-packages (from typer<1.0,>=0.12->gradio) (13.9.2)\n",
      "Requirement already satisfied: monotonic>=1.5 in ./myenv/lib/python3.12/site-packages (from posthog->haystack-ai) (1.6)\n",
      "Requirement already satisfied: backoff>=1.10.0 in ./myenv/lib/python3.12/site-packages (from posthog->haystack-ai) (2.2.1)\n",
      "Requirement already satisfied: markdown-it-py>=2.2.0 in ./myenv/lib/python3.12/site-packages (from rich>=10.11.0->typer<1.0,>=0.12->gradio) (3.0.0)\n",
      "Requirement already satisfied: pygments<3.0.0,>=2.13.0 in ./myenv/lib/python3.12/site-packages (from rich>=10.11.0->typer<1.0,>=0.12->gradio) (2.18.0)\n",
      "Requirement already satisfied: propcache>=0.2.0 in ./myenv/lib/python3.12/site-packages (from yarl<2.0,>=1.12.0->aiohttp->datasets) (0.2.0)\n",
      "Requirement already satisfied: mdurl~=0.1 in ./myenv/lib/python3.12/site-packages (from markdown-it-py>=2.2.0->rich>=10.11.0->typer<1.0,>=0.12->gradio) (0.1.2)\n"
     ]
    }
   ],
   "source": [
    "!pip install haystack-ai datasets ollama-haystack gradio"
   ]
  },
  {
   "cell_type": "code",
   "execution_count": 4,
   "metadata": {
    "colab": {
     "base_uri": "https://localhost:8080/"
    },
    "id": "KX0E0GfbjAZY",
    "outputId": "5dcb1319-1226-4080-b1aa-909554fbf9c2",
    "scrolled": true
   },
   "outputs": [
    {
     "name": "stdout",
     "output_type": "stream",
     "text": [
      "Requirement already satisfied: ollama-haystack in ./myenv/lib/python3.12/site-packages (1.1.0)\n",
      "Requirement already satisfied: haystack-ai in ./myenv/lib/python3.12/site-packages (from ollama-haystack) (2.6.1)\n",
      "Requirement already satisfied: ollama in ./myenv/lib/python3.12/site-packages (from ollama-haystack) (0.3.3)\n",
      "Requirement already satisfied: haystack-experimental in ./myenv/lib/python3.12/site-packages (from haystack-ai->ollama-haystack) (0.2.0)\n",
      "Requirement already satisfied: jinja2 in ./myenv/lib/python3.12/site-packages (from haystack-ai->ollama-haystack) (3.1.4)\n",
      "Requirement already satisfied: lazy-imports in ./myenv/lib/python3.12/site-packages (from haystack-ai->ollama-haystack) (0.3.1)\n",
      "Requirement already satisfied: more-itertools in ./myenv/lib/python3.12/site-packages (from haystack-ai->ollama-haystack) (10.5.0)\n",
      "Requirement already satisfied: networkx in ./myenv/lib/python3.12/site-packages (from haystack-ai->ollama-haystack) (3.4.2)\n",
      "Requirement already satisfied: numpy<2 in ./myenv/lib/python3.12/site-packages (from haystack-ai->ollama-haystack) (1.26.4)\n",
      "Requirement already satisfied: openai>=1.1.0 in ./myenv/lib/python3.12/site-packages (from haystack-ai->ollama-haystack) (1.52.0)\n",
      "Requirement already satisfied: pandas in ./myenv/lib/python3.12/site-packages (from haystack-ai->ollama-haystack) (2.2.3)\n",
      "Requirement already satisfied: posthog in ./myenv/lib/python3.12/site-packages (from haystack-ai->ollama-haystack) (3.7.0)\n",
      "Requirement already satisfied: python-dateutil in ./myenv/lib/python3.12/site-packages (from haystack-ai->ollama-haystack) (2.9.0.post0)\n",
      "Requirement already satisfied: pyyaml in ./myenv/lib/python3.12/site-packages (from haystack-ai->ollama-haystack) (6.0.2)\n",
      "Requirement already satisfied: requests in ./myenv/lib/python3.12/site-packages (from haystack-ai->ollama-haystack) (2.32.3)\n",
      "Requirement already satisfied: tenacity!=8.4.0 in ./myenv/lib/python3.12/site-packages (from haystack-ai->ollama-haystack) (9.0.0)\n",
      "Requirement already satisfied: tqdm in ./myenv/lib/python3.12/site-packages (from haystack-ai->ollama-haystack) (4.66.5)\n",
      "Requirement already satisfied: typing-extensions>=4.7 in ./myenv/lib/python3.12/site-packages (from haystack-ai->ollama-haystack) (4.12.2)\n",
      "Requirement already satisfied: httpx<0.28.0,>=0.27.0 in ./myenv/lib/python3.12/site-packages (from ollama->ollama-haystack) (0.27.2)\n",
      "Requirement already satisfied: anyio in ./myenv/lib/python3.12/site-packages (from httpx<0.28.0,>=0.27.0->ollama->ollama-haystack) (4.6.2.post1)\n",
      "Requirement already satisfied: certifi in ./myenv/lib/python3.12/site-packages (from httpx<0.28.0,>=0.27.0->ollama->ollama-haystack) (2024.8.30)\n",
      "Requirement already satisfied: httpcore==1.* in ./myenv/lib/python3.12/site-packages (from httpx<0.28.0,>=0.27.0->ollama->ollama-haystack) (1.0.6)\n",
      "Requirement already satisfied: idna in ./myenv/lib/python3.12/site-packages (from httpx<0.28.0,>=0.27.0->ollama->ollama-haystack) (3.10)\n",
      "Requirement already satisfied: sniffio in ./myenv/lib/python3.12/site-packages (from httpx<0.28.0,>=0.27.0->ollama->ollama-haystack) (1.3.1)\n",
      "Requirement already satisfied: h11<0.15,>=0.13 in ./myenv/lib/python3.12/site-packages (from httpcore==1.*->httpx<0.28.0,>=0.27.0->ollama->ollama-haystack) (0.14.0)\n",
      "Requirement already satisfied: distro<2,>=1.7.0 in ./myenv/lib/python3.12/site-packages (from openai>=1.1.0->haystack-ai->ollama-haystack) (1.9.0)\n",
      "Requirement already satisfied: jiter<1,>=0.4.0 in ./myenv/lib/python3.12/site-packages (from openai>=1.1.0->haystack-ai->ollama-haystack) (0.6.1)\n",
      "Requirement already satisfied: pydantic<3,>=1.9.0 in ./myenv/lib/python3.12/site-packages (from openai>=1.1.0->haystack-ai->ollama-haystack) (2.9.2)\n",
      "Requirement already satisfied: MarkupSafe>=2.0 in ./myenv/lib/python3.12/site-packages (from jinja2->haystack-ai->ollama-haystack) (2.1.5)\n",
      "Requirement already satisfied: pytz>=2020.1 in ./myenv/lib/python3.12/site-packages (from pandas->haystack-ai->ollama-haystack) (2024.2)\n",
      "Requirement already satisfied: tzdata>=2022.7 in ./myenv/lib/python3.12/site-packages (from pandas->haystack-ai->ollama-haystack) (2024.2)\n",
      "Requirement already satisfied: six>=1.5 in ./myenv/lib/python3.12/site-packages (from python-dateutil->haystack-ai->ollama-haystack) (1.16.0)\n",
      "Requirement already satisfied: monotonic>=1.5 in ./myenv/lib/python3.12/site-packages (from posthog->haystack-ai->ollama-haystack) (1.6)\n",
      "Requirement already satisfied: backoff>=1.10.0 in ./myenv/lib/python3.12/site-packages (from posthog->haystack-ai->ollama-haystack) (2.2.1)\n",
      "Requirement already satisfied: charset-normalizer<4,>=2 in ./myenv/lib/python3.12/site-packages (from requests->haystack-ai->ollama-haystack) (3.4.0)\n",
      "Requirement already satisfied: urllib3<3,>=1.21.1 in ./myenv/lib/python3.12/site-packages (from requests->haystack-ai->ollama-haystack) (2.2.3)\n",
      "Requirement already satisfied: annotated-types>=0.6.0 in ./myenv/lib/python3.12/site-packages (from pydantic<3,>=1.9.0->openai>=1.1.0->haystack-ai->ollama-haystack) (0.7.0)\n",
      "Requirement already satisfied: pydantic-core==2.23.4 in ./myenv/lib/python3.12/site-packages (from pydantic<3,>=1.9.0->openai>=1.1.0->haystack-ai->ollama-haystack) (2.23.4)\n"
     ]
    }
   ],
   "source": [
    "!pip install ollama-haystack"
   ]
  },
  {
   "cell_type": "markdown",
   "metadata": {
    "id": "smr8-TSVMXPh"
   },
   "source": [
    "# Imports"
   ]
  },
  {
   "cell_type": "code",
   "execution_count": 3,
   "metadata": {
    "id": "ySy4OjsKj6pe"
   },
   "outputs": [],
   "source": [
    "import pandas as pd"
   ]
  },
  {
   "cell_type": "code",
   "execution_count": 4,
   "metadata": {
    "colab": {
     "base_uri": "https://localhost:8080/"
    },
    "id": "WOwSeeJ1if2x",
    "outputId": "54b6c132-4b9f-430b-da08-1ab54dfb9721"
   },
   "outputs": [
    {
     "name": "stderr",
     "output_type": "stream",
     "text": [
      "/home/luis/UFV/RAG - LLM - Jupyter/myenv/lib/python3.12/site-packages/tqdm/auto.py:21: TqdmWarning: IProgress not found. Please update jupyter and ipywidgets. See https://ipywidgets.readthedocs.io/en/stable/user_install.html\n",
      "  from .autonotebook import tqdm as notebook_tqdm\n",
      "/home/luis/UFV/RAG - LLM - Jupyter/myenv/lib/python3.12/site-packages/haystack/core/errors.py:34: DeprecationWarning: PipelineMaxLoops is deprecated and will be remove in version '2.7.0'; use PipelineMaxComponentRuns instead.\n",
      "  warnings.warn(\n"
     ]
    }
   ],
   "source": [
    "from datasets import load_dataset\n",
    "from haystack import Document, Pipeline\n",
    "from haystack.document_stores.in_memory import InMemoryDocumentStore\n",
    "from haystack.components.retrievers import InMemoryBM25Retriever\n",
    "from haystack.components.builders import PromptBuilder\n",
    "from haystack_integrations.components.generators.ollama import OllamaGenerator\n",
    "from haystack.document_stores.types import DuplicatePolicy\n",
    "from haystack.components.embedders import SentenceTransformersTextEmbedder\n",
    "from haystack.components.retrievers import InMemoryEmbeddingRetriever\n",
    "from haystack.components.rankers import TransformersSimilarityRanker\n",
    "from haystack.components.embedders import SentenceTransformersDocumentEmbedder\n",
    "from haystack.components.writers import DocumentWriter\n",
    "from haystack.components.joiners.document_joiner import DocumentJoiner"
   ]
  },
  {
   "cell_type": "code",
   "execution_count": 5,
   "metadata": {},
   "outputs": [
    {
     "ename": "ImportError",
     "evalue": "cannot import name 'ChromaDocumentStore' from 'haystack.document_stores' (/home/luis/UFV/RAG - LLM - Jupyter/myenv/lib/python3.12/site-packages/haystack/document_stores/__init__.py)",
     "output_type": "error",
     "traceback": [
      "\u001b[0;31m---------------------------------------------------------------------------\u001b[0m",
      "\u001b[0;31mImportError\u001b[0m                               Traceback (most recent call last)",
      "Cell \u001b[0;32mIn[5], line 2\u001b[0m\n\u001b[1;32m      1\u001b[0m \u001b[38;5;28;01mimport\u001b[39;00m \u001b[38;5;21;01mchromadb\u001b[39;00m\n\u001b[0;32m----> 2\u001b[0m \u001b[38;5;28;01mfrom\u001b[39;00m \u001b[38;5;21;01mhaystack\u001b[39;00m\u001b[38;5;21;01m.\u001b[39;00m\u001b[38;5;21;01mdocument_stores\u001b[39;00m \u001b[38;5;28;01mimport\u001b[39;00m ChromaDocumentStore\n\u001b[1;32m      3\u001b[0m \u001b[38;5;28;01mfrom\u001b[39;00m \u001b[38;5;21;01mhaystack\u001b[39;00m\u001b[38;5;21;01m.\u001b[39;00m\u001b[38;5;21;01mnodes\u001b[39;00m \u001b[38;5;28;01mimport\u001b[39;00m Document, SentenceTransformersDocumentEmbedder\n",
      "\u001b[0;31mImportError\u001b[0m: cannot import name 'ChromaDocumentStore' from 'haystack.document_stores' (/home/luis/UFV/RAG - LLM - Jupyter/myenv/lib/python3.12/site-packages/haystack/document_stores/__init__.py)"
     ]
    }
   ],
   "source": [
    "import chromadb\n",
    "from haystack.document_stores import ChromaDocumentStore\n",
    "from haystack.nodes import Document, SentenceTransformersDocumentEmbedder"
   ]
  },
  {
   "cell_type": "markdown",
   "metadata": {
    "id": "w7LTXj4guxch",
    "jp-MarkdownHeadingCollapsed": true
   },
   "source": [
    "# Datasets"
   ]
  },
  {
   "cell_type": "code",
   "execution_count": 3,
   "metadata": {
    "id": "iFmqE4slM4Gk"
   },
   "outputs": [],
   "source": [
    "import pandas as pd"
   ]
  },
  {
   "cell_type": "code",
   "execution_count": 4,
   "metadata": {
    "id": "02cD1KTAu5CR"
   },
   "outputs": [
    {
     "data": {
      "text/html": [
       "<div>\n",
       "<style scoped>\n",
       "    .dataframe tbody tr th:only-of-type {\n",
       "        vertical-align: middle;\n",
       "    }\n",
       "\n",
       "    .dataframe tbody tr th {\n",
       "        vertical-align: top;\n",
       "    }\n",
       "\n",
       "    .dataframe thead th {\n",
       "        text-align: right;\n",
       "    }\n",
       "</style>\n",
       "<table border=\"1\" class=\"dataframe\">\n",
       "  <thead>\n",
       "    <tr style=\"text-align: right;\">\n",
       "      <th></th>\n",
       "      <th>source_code</th>\n",
       "      <th>slither</th>\n",
       "    </tr>\n",
       "  </thead>\n",
       "  <tbody>\n",
       "    <tr>\n",
       "      <th>3757</th>\n",
       "      <td>contract noFoundationProposal {}</td>\n",
       "      <td>safe</td>\n",
       "    </tr>\n",
       "    <tr>\n",
       "      <th>1854</th>\n",
       "      <td>pragma solidity ^0.4.21;\\n\\n\\n\\ncontract Press...</td>\n",
       "      <td>safe</td>\n",
       "    </tr>\n",
       "    <tr>\n",
       "      <th>1630</th>\n",
       "      <td>pragma solidity ^0.4.11;\\n\\ncontract IconomiBl...</td>\n",
       "      <td>safe</td>\n",
       "    </tr>\n",
       "    <tr>\n",
       "      <th>2184</th>\n",
       "      <td>pragma solidity ^0.4.19;\\n\\n//Created by Moozi...</td>\n",
       "      <td>safe</td>\n",
       "    </tr>\n",
       "    <tr>\n",
       "      <th>3505</th>\n",
       "      <td>//SPDX-License-Identifier: Unlicense\\npragma s...</td>\n",
       "      <td>safe</td>\n",
       "    </tr>\n",
       "  </tbody>\n",
       "</table>\n",
       "</div>"
      ],
      "text/plain": [
       "                                            source_code slither\n",
       "3757                   contract noFoundationProposal {}    safe\n",
       "1854  pragma solidity ^0.4.21;\\n\\n\\n\\ncontract Press...    safe\n",
       "1630  pragma solidity ^0.4.11;\\n\\ncontract IconomiBl...    safe\n",
       "2184  pragma solidity ^0.4.19;\\n\\n//Created by Moozi...    safe\n",
       "3505  //SPDX-License-Identifier: Unlicense\\npragma s...    safe"
      ]
     },
     "execution_count": 4,
     "metadata": {},
     "output_type": "execute_result"
    }
   ],
   "source": [
    "df_vuln = pd.read_parquet('/home/luis/UFV/RAG - LLM - Jupyter/dataset_reentrancy_small_multilabel.parquet')\n",
    "df_vuln = df_vuln.drop_duplicates()\n",
    "\n",
    "df_safe = pd.read_parquet('/home/luis/UFV/RAG - LLM - Jupyter/dataset_safe_small_multilabel.parquet')\n",
    "df_safe = df_safe.drop_duplicates()\n",
    "\n",
    "df_total = pd.concat([df_vuln, df_safe], ignore_index=True)\n",
    "df_total = df_total.sort_values(by='source_code', key=lambda col: col.str.len(), ascending=True)\n",
    "df_total.head(5)"
   ]
  },
  {
   "cell_type": "code",
   "execution_count": 6,
   "metadata": {},
   "outputs": [
    {
     "name": "stdout",
     "output_type": "stream",
     "text": [
      "Tamanho do conjunto de treino: 3269\n",
      "Tamanho do conjunto de teste: 500\n"
     ]
    }
   ],
   "source": [
    "# Filtrar os contratos \"safe\" e \"reentrancy\"\n",
    "safe_contracts = df_total[df_total['slither'].str.contains(\"safe\")].head(250)\n",
    "reentrancy_contracts = df_total[df_total['slither'].str.contains(\"reentrancy\")].head(250)\n",
    "\n",
    "# Concatenar os contratos de teste\n",
    "test_df = pd.concat([safe_contracts, reentrancy_contracts])\n",
    "test_df = test_df.sort_values(by='source_code', key=lambda col: col.str.len(), ascending=True)\n",
    "\n",
    "# Selecionar contratos restantes para treino\n",
    "train_df = df_total[~df_total.index.isin(test_df.index)]\n",
    "\n",
    "# Verificar o tamanho dos DataFrames\n",
    "print(\"Tamanho do conjunto de treino:\", len(train_df))\n",
    "print(\"Tamanho do conjunto de teste:\", len(test_df))\n",
    "\n",
    "# Garantir que a divisão está correta\n",
    "assert len(train_df) + len(test_df) == len(df_total)\n"
   ]
  },
  {
   "cell_type": "markdown",
   "metadata": {
    "id": "52tccGPAU-fL"
   },
   "source": [
    "# Pipeline"
   ]
  },
  {
   "cell_type": "code",
   "execution_count": 8,
   "metadata": {
    "colab": {
     "base_uri": "https://localhost:8080/",
     "height": 66,
     "referenced_widgets": [
      "93c1723994b34f049e070378b1b94468",
      "ec7685792ba54dc9a87a94f15763029b",
      "58f4d66360a44184b8c782eaa353fc13",
      "30390ef00a5c4fa98759cdb5408c503e",
      "4527f79123734009a51653ad39de3155",
      "d76eea9015f544e3883a5a7f84a4821d",
      "1803c08d6476404fb14ebe93e2208b38",
      "6e47912c2aff4c869a218d087a5138e4",
      "e9543d289f0844e19fc3446d408de8f4",
      "43123a8449a049659035bdf265078437",
      "44e8b9fd7ac14573885b2bce6798d135"
     ]
    },
    "id": "Yx_W9QwuTUkV",
    "outputId": "2d481bbe-1ca9-4112-8185-f39a933750de"
   },
   "outputs": [
    {
     "name": "stderr",
     "output_type": "stream",
     "text": [
      "Batches: 100%|████████████████████████████████| 103/103 [02:46<00:00,  1.61s/it]\n"
     ]
    },
    {
     "data": {
      "text/plain": [
       "3269"
      ]
     },
     "execution_count": 8,
     "metadata": {},
     "output_type": "execute_result"
    }
   ],
   "source": [
    "document_store = InMemoryDocumentStore(embedding_similarity_function=\"cosine\")\n",
    "\n",
    "documents = [\n",
    "    Document(\n",
    "        content=row['source_code'],\n",
    "        meta={\n",
    "            \"vulnerability\": \"reentrancy\" if \"reentrancy\" in row['slither'] else \"safe\" if \"safe\" in row['slither'] else row['slither']\n",
    "        }\n",
    "    )\n",
    "    for index, row in train_df.iterrows()\n",
    "]\n",
    "\n",
    "document_embedder  = SentenceTransformersDocumentEmbedder(model=\"mixedbread-ai/deepset-mxbai-embed-de-large-v1\")\n",
    "#document_embedder  = SentenceTransformersDocumentEmbedder()\n",
    "document_embedder.warm_up()\n",
    "\n",
    "documents_with_embeddings = document_embedder.run(documents )[\"documents\"]\n",
    "document_store.write_documents(documents_with_embeddings)"
   ]
  },
  {
   "cell_type": "code",
   "execution_count": 9,
   "metadata": {
    "id": "mSl1yy2S760z"
   },
   "outputs": [],
   "source": [
    "template = \"\"\"\n",
    "You are an AI auditor specialized in analyzing smart contracts to detect vulnerabilities using a Retrieval-Augmented Generation (RAG) system. The following information has been retrieved from a knowledge base related to possible reentrancy issues in smart contracts.\n",
    "\n",
    "Context:\n",
    "{% for document in documents %}\n",
    "    {{ document.content }}\n",
    "{% endfor %}\n",
    "<|eot_id|>\n",
    "\n",
    "Carefully inspect the provided smart contract code, focusing solely on identifying reentrancy vulnerabilities. Respond **only** with a single word: \"Yes\" or \"No\". Avoid any explanations or additional details. Provide just one word: \"Yes\" or \"No\".\n",
    "\n",
    "Smart Contract Code: {{query}}\n",
    "<|eot_id|>\n",
    "\n",
    "\"\"\""
   ]
  },
  {
   "cell_type": "code",
   "execution_count": 10,
   "metadata": {
    "id": "hbeZ2UKSQA-c"
   },
   "outputs": [],
   "source": [
    "text_embedder = SentenceTransformersTextEmbedder(model=\"mixedbread-ai/deepset-mxbai-embed-de-large-v1\")\n",
    "\n",
    "embedding_retriever = InMemoryEmbeddingRetriever(document_store=document_store, top_k = 1)\n",
    "\n",
    "bm25_retriever = InMemoryBM25Retriever(document_store=document_store, top_k = 1)\n",
    "\n",
    "document_joiner = DocumentJoiner(join_mode=\"merge\")\n",
    "\n",
    "ranker = TransformersSimilarityRanker(top_k = 1)\n",
    "\n",
    "prompt_builder = PromptBuilder(template=template)\n",
    "\n",
    "llm = OllamaGenerator(model=\"codellama:7b\",\n",
    "                            url = \"http://localhost:11434\",\n",
    "                            generation_kwargs={\n",
    "                              \"num_predict\": 100,\n",
    "                              \"temperature\": 0.1,\n",
    "                              \"timeout\": 500\n",
    "                              #\"max_tokens\": 200,\n",
    "                              #\"stop\": [\"<|eot_id|>\"]\n",
    "                              })"
   ]
  },
  {
   "cell_type": "code",
   "execution_count": 11,
   "metadata": {
    "id": "HVAm_2mpQUlf"
   },
   "outputs": [],
   "source": [
    "rag_pipeline = Pipeline()\n",
    "\n",
    "rag_pipeline.add_component(\"text_embedder\", instance = text_embedder)\n",
    "rag_pipeline.add_component(\"embedding_retriever\", embedding_retriever)\n",
    "rag_pipeline.add_component(\"bm25_retriever\", bm25_retriever)\n",
    "rag_pipeline.add_component(\"document_joiner\", document_joiner)\n",
    "rag_pipeline.add_component(\"ranker\", ranker)\n",
    "rag_pipeline.add_component(\"prompt_builder\", prompt_builder)\n",
    "rag_pipeline.add_component(\"generator\", instance = llm)"
   ]
  },
  {
   "cell_type": "code",
   "execution_count": 12,
   "metadata": {
    "colab": {
     "base_uri": "https://localhost:8080/"
    },
    "id": "9Rr89B06Sd1Q",
    "outputId": "7af81235-fb58-4fb0-9f96-7919e8e84c83"
   },
   "outputs": [
    {
     "data": {
      "text/plain": [
       "<haystack.core.pipeline.pipeline.Pipeline object at 0x75705aba19d0>\n",
       "🚅 Components\n",
       "  - text_embedder: SentenceTransformersTextEmbedder\n",
       "  - embedding_retriever: InMemoryEmbeddingRetriever\n",
       "  - bm25_retriever: InMemoryBM25Retriever\n",
       "  - document_joiner: DocumentJoiner\n",
       "  - ranker: TransformersSimilarityRanker\n",
       "  - prompt_builder: PromptBuilder\n",
       "  - generator: OllamaGenerator\n",
       "🛤️ Connections\n",
       "  - text_embedder.embedding -> embedding_retriever.query_embedding (List[float])\n",
       "  - embedding_retriever.documents -> document_joiner.documents (List[Document])\n",
       "  - bm25_retriever.documents -> document_joiner.documents (List[Document])\n",
       "  - document_joiner.documents -> ranker.documents (List[Document])\n",
       "  - ranker.documents -> prompt_builder.documents (List[Document])\n",
       "  - prompt_builder.prompt -> generator.prompt (str)"
      ]
     },
     "execution_count": 12,
     "metadata": {},
     "output_type": "execute_result"
    }
   ],
   "source": [
    "rag_pipeline.connect(\"text_embedder\", \"embedding_retriever\")\n",
    "rag_pipeline.connect(\"bm25_retriever\", \"document_joiner\")\n",
    "rag_pipeline.connect(\"embedding_retriever\", \"document_joiner\")\n",
    "rag_pipeline.connect(\"document_joiner\", \"ranker\")\n",
    "rag_pipeline.connect(\"ranker\", \"prompt_builder.documents\")\n",
    "rag_pipeline.connect(\"prompt_builder\", \"generator\")\n"
   ]
  },
  {
   "cell_type": "markdown",
   "metadata": {
    "id": "nsjvzqAaVAOZ"
   },
   "source": [
    "# Execução"
   ]
  },
  {
   "cell_type": "code",
   "execution_count": 15,
   "metadata": {
    "id": "Xx6E8X9IU8KT"
   },
   "outputs": [],
   "source": [
    "question=\"\"\"\n",
    "// SPDX-License-Identifier: MIT\n",
    "pragma solidity ^0.8.0;\n",
    "\n",
    "contract SimpleBank {\n",
    "    mapping(address => uint256) public balances;\n",
    "\n",
    "    function deposit() public payable {\n",
    "        balances[msg.sender] += msg.value;\n",
    "    }\n",
    "\n",
    "    function withdraw(uint256 amount) public {\n",
    "        require(balances[msg.sender] >= amount, \"Insufficient balance\");\n",
    "\n",
    "        (bool success, ) = msg.sender.call{value: amount}(\"\");\n",
    "        require(success, \"Transfer failed\");\n",
    "\n",
    "        balances[msg.sender] -= amount;\n",
    "    }\n",
    "\n",
    "    receive() external payable {}\n",
    "}\n",
    "\"\"\""
   ]
  },
  {
   "cell_type": "code",
   "execution_count": null,
   "metadata": {
    "colab": {
     "base_uri": "https://localhost:8080/",
     "height": 121,
     "referenced_widgets": [
      "3775da87896c400299c328d16387649d",
      "df353fc32b2c43bea7ce596c02bd9b70",
      "3fca0e3e38634f3d84c00c426810ddd6",
      "18129baec0454034aedd2a078363cae0",
      "52b0177c1aab45f8959c7e227392249c",
      "42b22129a69642b48ba22370211614eb",
      "71f78e1ef58e4deb8837ec4f5ec2af7a",
      "b6c1f65789c04813b893ad85e480216d",
      "fe666ae4f98e4d0e956e7c6b43a5cfcd",
      "b4a5517a521a428ca826e309f563ab01",
      "c4b6a5edeb314450a68408820ead468a"
     ]
    },
    "id": "u3qfqgJoyLOq",
    "outputId": "3359337c-f328-4fdb-abd7-7df7fa64765c"
   },
   "outputs": [],
   "source": [
    "resposta = rag_pipeline.run(\n",
    "  {\n",
    "      #\"document_embedder\": {\"documents\": documents_with_embeddings},\n",
    "      \"document_joiner\": {\"documents\": documents_with_embeddings},\n",
    "      \"text_embedder\": {\"text\": question},\n",
    "      \"ranker\": {\"query\": question},\n",
    "      \"bm25_retriever\": {\"query\": question},\n",
    "      \"prompt_builder\": {\"query\": question}\n",
    "  }\n",
    ")\n",
    "print(resposta[\"generator\"][\"replies\"][0])"
   ]
  },
  {
   "cell_type": "code",
   "execution_count": null,
   "metadata": {},
   "outputs": [
    {
     "name": "stderr",
     "output_type": "stream",
     "text": [
      "Batches: 100%|████████████████████████████████████| 1/1 [00:00<00:00, 75.00it/s]\n"
     ]
    },
    {
     "name": "stdout",
     "output_type": "stream",
     "text": [
      "LLM linha 3757: no\n",
      "Slither linha 3757: no\n",
      "Metrics after line 3757: TP=0, FP=0, TN=1, FN=0\n",
      "\n"
     ]
    },
    {
     "name": "stderr",
     "output_type": "stream",
     "text": [
      "Batches: 100%|███████████████████████████████████| 1/1 [00:00<00:00, 109.32it/s]\n"
     ]
    },
    {
     "name": "stdout",
     "output_type": "stream",
     "text": [
      "LLM linha 1854: no\n",
      "Slither linha 1854: no\n",
      "Metrics after line 1854: TP=0, FP=0, TN=2, FN=0\n",
      "\n"
     ]
    },
    {
     "name": "stderr",
     "output_type": "stream",
     "text": [
      "Batches: 100%|███████████████████████████████████| 1/1 [00:00<00:00, 105.80it/s]\n"
     ]
    },
    {
     "name": "stdout",
     "output_type": "stream",
     "text": [
      "LLM linha 1630: no\n",
      "Slither linha 1630: no\n",
      "Metrics after line 1630: TP=0, FP=0, TN=3, FN=0\n",
      "\n"
     ]
    },
    {
     "name": "stderr",
     "output_type": "stream",
     "text": [
      "Batches: 100%|███████████████████████████████████| 1/1 [00:00<00:00, 108.92it/s]\n"
     ]
    },
    {
     "name": "stdout",
     "output_type": "stream",
     "text": [
      "LLM linha 2184: yes\n",
      "Slither linha 2184: no\n",
      "Metrics after line 2184: TP=0, FP=1, TN=3, FN=0\n",
      "\n"
     ]
    },
    {
     "name": "stderr",
     "output_type": "stream",
     "text": [
      "Batches: 100%|███████████████████████████████████| 1/1 [00:00<00:00, 102.36it/s]\n"
     ]
    },
    {
     "name": "stdout",
     "output_type": "stream",
     "text": [
      "LLM linha 3505: yes\n",
      "Slither linha 3505: no\n",
      "Metrics after line 3505: TP=0, FP=2, TN=3, FN=0\n",
      "\n"
     ]
    },
    {
     "name": "stderr",
     "output_type": "stream",
     "text": [
      "Batches: 100%|████████████████████████████████████| 1/1 [00:00<00:00, 91.02it/s]\n"
     ]
    },
    {
     "name": "stdout",
     "output_type": "stream",
     "text": [
      "LLM linha 2401: yes\n",
      "Slither linha 2401: no\n",
      "Metrics after line 2401: TP=0, FP=3, TN=3, FN=0\n",
      "\n"
     ]
    },
    {
     "name": "stderr",
     "output_type": "stream",
     "text": [
      "Batches: 100%|███████████████████████████████████| 1/1 [00:00<00:00, 100.76it/s]\n"
     ]
    },
    {
     "name": "stdout",
     "output_type": "stream",
     "text": [
      "LLM linha 2807: yes\n",
      "Slither linha 2807: no\n",
      "Metrics after line 2807: TP=0, FP=4, TN=3, FN=0\n",
      "\n"
     ]
    },
    {
     "name": "stderr",
     "output_type": "stream",
     "text": [
      "Batches: 100%|████████████████████████████████████| 1/1 [00:00<00:00, 91.27it/s]\n"
     ]
    },
    {
     "name": "stdout",
     "output_type": "stream",
     "text": [
      "LLM linha 1719: no\n",
      "Slither linha 1719: no\n",
      "Metrics after line 1719: TP=0, FP=4, TN=4, FN=0\n",
      "\n"
     ]
    },
    {
     "name": "stderr",
     "output_type": "stream",
     "text": [
      "Batches: 100%|███████████████████████████████████| 1/1 [00:00<00:00, 102.50it/s]\n"
     ]
    },
    {
     "name": "stdout",
     "output_type": "stream",
     "text": [
      "LLM linha 2879: yes\n",
      "Slither linha 2879: no\n",
      "Metrics after line 2879: TP=0, FP=5, TN=4, FN=0\n",
      "\n"
     ]
    },
    {
     "name": "stderr",
     "output_type": "stream",
     "text": [
      "Batches: 100%|████████████████████████████████████| 1/1 [00:00<00:00, 76.70it/s]\n"
     ]
    },
    {
     "name": "stdout",
     "output_type": "stream",
     "text": [
      "LLM linha 2685: yes\n",
      "Slither linha 2685: no\n",
      "Metrics after line 2685: TP=0, FP=6, TN=4, FN=0\n",
      "\n"
     ]
    },
    {
     "name": "stderr",
     "output_type": "stream",
     "text": [
      "Batches: 100%|████████████████████████████████████| 1/1 [00:00<00:00, 77.00it/s]\n"
     ]
    },
    {
     "name": "stdout",
     "output_type": "stream",
     "text": [
      "LLM linha 1972: no\n",
      "Slither linha 1972: no\n",
      "Metrics after line 1972: TP=0, FP=6, TN=5, FN=0\n",
      "\n"
     ]
    },
    {
     "name": "stderr",
     "output_type": "stream",
     "text": [
      "Batches: 100%|████████████████████████████████████| 1/1 [00:00<00:00, 76.92it/s]\n"
     ]
    },
    {
     "name": "stdout",
     "output_type": "stream",
     "text": [
      "LLM linha 2409: yes\n",
      "Slither linha 2409: no\n",
      "Metrics after line 2409: TP=0, FP=7, TN=5, FN=0\n",
      "\n"
     ]
    },
    {
     "name": "stderr",
     "output_type": "stream",
     "text": [
      "Batches: 100%|████████████████████████████████████| 1/1 [00:00<00:00, 75.21it/s]\n"
     ]
    },
    {
     "name": "stdout",
     "output_type": "stream",
     "text": [
      "LLM linha 2899: yes\n",
      "Slither linha 2899: no\n",
      "Metrics after line 2899: TP=0, FP=8, TN=5, FN=0\n",
      "\n"
     ]
    },
    {
     "name": "stderr",
     "output_type": "stream",
     "text": [
      "Batches: 100%|████████████████████████████████████| 1/1 [00:00<00:00, 77.07it/s]\n"
     ]
    },
    {
     "name": "stdout",
     "output_type": "stream",
     "text": [
      "LLM linha 3278: yes\n",
      "Slither linha 3278: no\n",
      "Metrics after line 3278: TP=0, FP=9, TN=5, FN=0\n",
      "\n"
     ]
    },
    {
     "name": "stderr",
     "output_type": "stream",
     "text": [
      "Batches: 100%|████████████████████████████████████| 1/1 [00:00<00:00, 74.12it/s]\n"
     ]
    },
    {
     "name": "stdout",
     "output_type": "stream",
     "text": [
      "LLM linha 2444: yes\n",
      "Slither linha 2444: no\n",
      "Metrics after line 2444: TP=0, FP=10, TN=5, FN=0\n",
      "\n"
     ]
    },
    {
     "name": "stderr",
     "output_type": "stream",
     "text": [
      "Batches: 100%|████████████████████████████████████| 1/1 [00:00<00:00, 65.12it/s]\n"
     ]
    },
    {
     "name": "stdout",
     "output_type": "stream",
     "text": [
      "LLM linha 2272: yes\n",
      "Slither linha 2272: no\n",
      "Metrics after line 2272: TP=0, FP=11, TN=5, FN=0\n",
      "\n"
     ]
    },
    {
     "name": "stderr",
     "output_type": "stream",
     "text": [
      "Batches: 100%|████████████████████████████████████| 1/1 [00:00<00:00, 74.09it/s]\n"
     ]
    },
    {
     "name": "stdout",
     "output_type": "stream",
     "text": [
      "LLM linha 1687: yes\n",
      "Slither linha 1687: no\n",
      "Metrics after line 1687: TP=0, FP=12, TN=5, FN=0\n",
      "\n"
     ]
    },
    {
     "name": "stderr",
     "output_type": "stream",
     "text": [
      "Batches: 100%|████████████████████████████████████| 1/1 [00:00<00:00, 64.24it/s]\n"
     ]
    },
    {
     "name": "stdout",
     "output_type": "stream",
     "text": [
      "LLM linha 3525: yes\n",
      "Slither linha 3525: no\n",
      "Metrics after line 3525: TP=0, FP=13, TN=5, FN=0\n",
      "\n"
     ]
    },
    {
     "name": "stderr",
     "output_type": "stream",
     "text": [
      "Batches: 100%|████████████████████████████████████| 1/1 [00:00<00:00, 64.07it/s]\n"
     ]
    },
    {
     "name": "stdout",
     "output_type": "stream",
     "text": [
      "LLM linha 2707: yes\n",
      "Slither linha 2707: no\n",
      "Metrics after line 2707: TP=0, FP=14, TN=5, FN=0\n",
      "\n"
     ]
    },
    {
     "name": "stderr",
     "output_type": "stream",
     "text": [
      "Batches: 100%|████████████████████████████████████| 1/1 [00:00<00:00, 64.65it/s]\n"
     ]
    },
    {
     "name": "stdout",
     "output_type": "stream",
     "text": [
      "LLM linha 1706: yes\n",
      "Slither linha 1706: no\n",
      "Metrics after line 1706: TP=0, FP=15, TN=5, FN=0\n",
      "\n"
     ]
    },
    {
     "name": "stderr",
     "output_type": "stream",
     "text": [
      "Batches: 100%|████████████████████████████████████| 1/1 [00:00<00:00, 49.74it/s]\n"
     ]
    },
    {
     "name": "stdout",
     "output_type": "stream",
     "text": [
      "LLM linha 2077: no\n",
      "Slither linha 2077: no\n",
      "Metrics after line 2077: TP=0, FP=15, TN=6, FN=0\n",
      "\n"
     ]
    },
    {
     "name": "stderr",
     "output_type": "stream",
     "text": [
      "Batches: 100%|████████████████████████████████████| 1/1 [00:00<00:00, 67.53it/s]\n"
     ]
    },
    {
     "name": "stdout",
     "output_type": "stream",
     "text": [
      "LLM linha 3233: yes\n",
      "Slither linha 3233: no\n",
      "Metrics after line 3233: TP=0, FP=16, TN=6, FN=0\n",
      "\n"
     ]
    },
    {
     "name": "stderr",
     "output_type": "stream",
     "text": [
      "Batches: 100%|████████████████████████████████████| 1/1 [00:00<00:00, 68.15it/s]\n"
     ]
    },
    {
     "name": "stdout",
     "output_type": "stream",
     "text": [
      "LLM linha 2412: no\n",
      "Slither linha 2412: no\n",
      "Metrics after line 2412: TP=0, FP=16, TN=7, FN=0\n",
      "\n"
     ]
    },
    {
     "name": "stderr",
     "output_type": "stream",
     "text": [
      "Batches: 100%|████████████████████████████████████| 1/1 [00:00<00:00, 50.95it/s]\n"
     ]
    },
    {
     "name": "stdout",
     "output_type": "stream",
     "text": [
      "LLM linha 3762: no\n",
      "Slither linha 3762: no\n",
      "Metrics after line 3762: TP=0, FP=16, TN=8, FN=0\n",
      "\n"
     ]
    },
    {
     "name": "stderr",
     "output_type": "stream",
     "text": [
      "Batches: 100%|████████████████████████████████████| 1/1 [00:00<00:00, 65.72it/s]\n"
     ]
    },
    {
     "name": "stdout",
     "output_type": "stream",
     "text": [
      "LLM linha 2512: yes\n",
      "Slither linha 2512: no\n",
      "Metrics after line 2512: TP=0, FP=17, TN=8, FN=0\n",
      "\n"
     ]
    },
    {
     "name": "stderr",
     "output_type": "stream",
     "text": [
      "Batches: 100%|████████████████████████████████████| 1/1 [00:00<00:00, 51.62it/s]\n"
     ]
    },
    {
     "name": "stdout",
     "output_type": "stream",
     "text": [
      "LLM linha 3618: yes\n",
      "Slither linha 3618: no\n",
      "Metrics after line 3618: TP=0, FP=18, TN=8, FN=0\n",
      "\n"
     ]
    },
    {
     "name": "stderr",
     "output_type": "stream",
     "text": [
      "Batches: 100%|████████████████████████████████████| 1/1 [00:00<00:00, 55.15it/s]\n"
     ]
    },
    {
     "name": "stdout",
     "output_type": "stream",
     "text": [
      "LLM linha 3135: yes\n",
      "Slither linha 3135: no\n",
      "Metrics after line 3135: TP=0, FP=19, TN=8, FN=0\n",
      "\n"
     ]
    },
    {
     "name": "stderr",
     "output_type": "stream",
     "text": [
      "Batches: 100%|████████████████████████████████████| 1/1 [00:00<00:00, 72.66it/s]\n"
     ]
    },
    {
     "name": "stdout",
     "output_type": "stream",
     "text": [
      "LLM linha 3377: yes\n",
      "Slither linha 3377: no\n",
      "Metrics after line 3377: TP=0, FP=20, TN=8, FN=0\n",
      "\n"
     ]
    },
    {
     "name": "stderr",
     "output_type": "stream",
     "text": [
      "Batches: 100%|████████████████████████████████████| 1/1 [00:00<00:00, 50.99it/s]\n"
     ]
    },
    {
     "name": "stdout",
     "output_type": "stream",
     "text": [
      "LLM linha 2632: no\n",
      "Slither linha 2632: no\n",
      "Metrics after line 2632: TP=0, FP=20, TN=9, FN=0\n",
      "\n"
     ]
    },
    {
     "name": "stderr",
     "output_type": "stream",
     "text": [
      "Batches: 100%|████████████████████████████████████| 1/1 [00:00<00:00, 73.15it/s]\n"
     ]
    },
    {
     "name": "stdout",
     "output_type": "stream",
     "text": [
      "LLM linha 3262: yes\n",
      "Slither linha 3262: no\n",
      "Metrics after line 3262: TP=0, FP=21, TN=9, FN=0\n",
      "\n"
     ]
    },
    {
     "name": "stderr",
     "output_type": "stream",
     "text": [
      "Batches: 100%|████████████████████████████████████| 1/1 [00:00<00:00, 64.97it/s]\n"
     ]
    },
    {
     "name": "stdout",
     "output_type": "stream",
     "text": [
      "LLM linha 1683: no\n",
      "Slither linha 1683: no\n",
      "Metrics after line 1683: TP=0, FP=21, TN=10, FN=0\n",
      "\n"
     ]
    },
    {
     "name": "stderr",
     "output_type": "stream",
     "text": [
      "Batches: 100%|████████████████████████████████████| 1/1 [00:00<00:00, 54.35it/s]\n"
     ]
    },
    {
     "name": "stdout",
     "output_type": "stream",
     "text": [
      "LLM linha 2938: yes\n",
      "Slither linha 2938: no\n",
      "Metrics after line 2938: TP=0, FP=22, TN=10, FN=0\n",
      "\n"
     ]
    },
    {
     "name": "stderr",
     "output_type": "stream",
     "text": [
      "Batches: 100%|████████████████████████████████████| 1/1 [00:00<00:00, 74.63it/s]\n"
     ]
    },
    {
     "name": "stdout",
     "output_type": "stream",
     "text": [
      "LLM linha 2345: yes\n",
      "Slither linha 2345: no\n",
      "Metrics after line 2345: TP=0, FP=23, TN=10, FN=0\n",
      "\n"
     ]
    },
    {
     "name": "stderr",
     "output_type": "stream",
     "text": [
      "Batches: 100%|████████████████████████████████████| 1/1 [00:00<00:00, 72.72it/s]\n"
     ]
    },
    {
     "name": "stdout",
     "output_type": "stream",
     "text": [
      "LLM linha 2535: yes\n",
      "Slither linha 2535: no\n",
      "Metrics after line 2535: TP=0, FP=24, TN=10, FN=0\n",
      "\n"
     ]
    },
    {
     "name": "stderr",
     "output_type": "stream",
     "text": [
      "Batches: 100%|████████████████████████████████████| 1/1 [00:00<00:00, 55.14it/s]\n"
     ]
    },
    {
     "name": "stdout",
     "output_type": "stream",
     "text": [
      "LLM linha 2156: no\n",
      "Slither linha 2156: no\n",
      "Metrics after line 2156: TP=0, FP=24, TN=11, FN=0\n",
      "\n"
     ]
    },
    {
     "name": "stderr",
     "output_type": "stream",
     "text": [
      "Batches: 100%|████████████████████████████████████| 1/1 [00:00<00:00, 55.07it/s]\n"
     ]
    },
    {
     "name": "stdout",
     "output_type": "stream",
     "text": [
      "LLM linha 1718: yes\n",
      "Slither linha 1718: no\n",
      "Metrics after line 1718: TP=0, FP=25, TN=11, FN=0\n",
      "\n"
     ]
    },
    {
     "name": "stderr",
     "output_type": "stream",
     "text": [
      "Batches: 100%|████████████████████████████████████| 1/1 [00:00<00:00, 54.29it/s]\n"
     ]
    },
    {
     "name": "stdout",
     "output_type": "stream",
     "text": [
      "LLM linha 2757: no\n",
      "Slither linha 2757: no\n",
      "Metrics after line 2757: TP=0, FP=25, TN=12, FN=0\n",
      "\n"
     ]
    },
    {
     "name": "stderr",
     "output_type": "stream",
     "text": [
      "Batches: 100%|████████████████████████████████████| 1/1 [00:00<00:00, 55.22it/s]\n"
     ]
    },
    {
     "name": "stdout",
     "output_type": "stream",
     "text": [
      "LLM linha 2903: yes\n",
      "Slither linha 2903: no\n",
      "Metrics after line 2903: TP=0, FP=26, TN=12, FN=0\n",
      "\n"
     ]
    },
    {
     "name": "stderr",
     "output_type": "stream",
     "text": [
      "Batches: 100%|████████████████████████████████████| 1/1 [00:00<00:00, 54.21it/s]\n"
     ]
    },
    {
     "name": "stdout",
     "output_type": "stream",
     "text": [
      "LLM linha 3056: yes\n",
      "Slither linha 3056: no\n",
      "Metrics after line 3056: TP=0, FP=27, TN=12, FN=0\n",
      "\n"
     ]
    },
    {
     "name": "stderr",
     "output_type": "stream",
     "text": [
      "Batches: 100%|████████████████████████████████████| 1/1 [00:00<00:00, 53.91it/s]\n"
     ]
    },
    {
     "name": "stdout",
     "output_type": "stream",
     "text": [
      "LLM linha 2038: no\n",
      "Slither linha 2038: no\n",
      "Metrics after line 2038: TP=0, FP=27, TN=13, FN=0\n",
      "\n"
     ]
    },
    {
     "name": "stderr",
     "output_type": "stream",
     "text": [
      "Batches: 100%|████████████████████████████████████| 1/1 [00:00<00:00, 53.64it/s]\n"
     ]
    },
    {
     "name": "stdout",
     "output_type": "stream",
     "text": [
      "LLM linha 2650: yes\n",
      "Slither linha 2650: no\n",
      "Metrics after line 2650: TP=0, FP=28, TN=13, FN=0\n",
      "\n"
     ]
    },
    {
     "name": "stderr",
     "output_type": "stream",
     "text": [
      "Batches: 100%|████████████████████████████████████| 1/1 [00:00<00:00, 53.36it/s]\n"
     ]
    },
    {
     "name": "stdout",
     "output_type": "stream",
     "text": [
      "LLM linha 2940: yes\n",
      "Slither linha 2940: no\n",
      "Metrics after line 2940: TP=0, FP=29, TN=13, FN=0\n",
      "\n"
     ]
    },
    {
     "name": "stderr",
     "output_type": "stream",
     "text": [
      "Batches: 100%|████████████████████████████████████| 1/1 [00:00<00:00, 54.01it/s]\n"
     ]
    },
    {
     "name": "stdout",
     "output_type": "stream",
     "text": [
      "LLM linha 2268: yes\n",
      "Slither linha 2268: no\n",
      "Metrics after line 2268: TP=0, FP=30, TN=13, FN=0\n",
      "\n"
     ]
    },
    {
     "name": "stderr",
     "output_type": "stream",
     "text": [
      "Batches: 100%|████████████████████████████████████| 1/1 [00:00<00:00, 39.90it/s]\n"
     ]
    },
    {
     "name": "stdout",
     "output_type": "stream",
     "text": [
      "LLM linha 2298: yes\n",
      "Slither linha 2298: no\n",
      "Metrics after line 2298: TP=0, FP=31, TN=13, FN=0\n",
      "\n"
     ]
    },
    {
     "name": "stderr",
     "output_type": "stream",
     "text": [
      "Batches: 100%|████████████████████████████████████| 1/1 [00:00<00:00, 51.08it/s]\n"
     ]
    },
    {
     "name": "stdout",
     "output_type": "stream",
     "text": [
      "LLM linha 2633: yes\n",
      "Slither linha 2633: no\n",
      "Metrics after line 2633: TP=0, FP=32, TN=13, FN=0\n",
      "\n"
     ]
    },
    {
     "name": "stderr",
     "output_type": "stream",
     "text": [
      "Batches: 100%|████████████████████████████████████| 1/1 [00:00<00:00, 51.10it/s]\n"
     ]
    },
    {
     "name": "stdout",
     "output_type": "stream",
     "text": [
      "LLM linha 2127: no\n",
      "Slither linha 2127: no\n",
      "Metrics after line 2127: TP=0, FP=32, TN=14, FN=0\n",
      "\n"
     ]
    },
    {
     "name": "stderr",
     "output_type": "stream",
     "text": [
      "Batches: 100%|████████████████████████████████████| 1/1 [00:00<00:00, 39.46it/s]\n"
     ]
    },
    {
     "name": "stdout",
     "output_type": "stream",
     "text": [
      "LLM linha 1879: no\n",
      "Slither linha 1879: no\n",
      "Metrics after line 1879: TP=0, FP=32, TN=15, FN=0\n",
      "\n"
     ]
    },
    {
     "name": "stderr",
     "output_type": "stream",
     "text": [
      "Batches: 100%|████████████████████████████████████| 1/1 [00:00<00:00, 39.61it/s]\n"
     ]
    },
    {
     "name": "stdout",
     "output_type": "stream",
     "text": [
      "LLM linha 3327: yes. this smart contract has a reentrancy vulnerability due to the use of `transfer` in the constructor, which can be exploited by an attacker who can manipulate the balance of the token owner's account.\n",
      "Slither linha 3327: no\n",
      "Metrics after line 3327: TP=0, FP=33, TN=15, FN=0\n",
      "\n"
     ]
    },
    {
     "name": "stderr",
     "output_type": "stream",
     "text": [
      "Batches: 100%|████████████████████████████████████| 1/1 [00:00<00:00, 39.40it/s]\n"
     ]
    },
    {
     "name": "stdout",
     "output_type": "stream",
     "text": [
      "LLM linha 3076: yes\n",
      "Slither linha 3076: no\n",
      "Metrics after line 3076: TP=0, FP=34, TN=15, FN=0\n",
      "\n"
     ]
    },
    {
     "name": "stderr",
     "output_type": "stream",
     "text": [
      "Batches: 100%|████████████████████████████████████| 1/1 [00:00<00:00, 38.93it/s]\n"
     ]
    },
    {
     "name": "stdout",
     "output_type": "stream",
     "text": [
      "LLM linha 2133: yes\n",
      "Slither linha 2133: no\n",
      "Metrics after line 2133: TP=0, FP=35, TN=15, FN=0\n",
      "\n"
     ]
    },
    {
     "name": "stderr",
     "output_type": "stream",
     "text": [
      "Batches: 100%|████████████████████████████████████| 1/1 [00:00<00:00, 38.86it/s]\n"
     ]
    },
    {
     "name": "stdout",
     "output_type": "stream",
     "text": [
      "LLM linha 2501: yes\n",
      "Slither linha 2501: no\n",
      "Metrics after line 2501: TP=0, FP=36, TN=15, FN=0\n",
      "\n"
     ]
    },
    {
     "name": "stderr",
     "output_type": "stream",
     "text": [
      "Batches: 100%|████████████████████████████████████| 1/1 [00:00<00:00, 50.80it/s]\n"
     ]
    },
    {
     "name": "stdout",
     "output_type": "stream",
     "text": [
      "LLM linha 2852: yes\n",
      "Slither linha 2852: no\n",
      "Metrics after line 2852: TP=0, FP=37, TN=15, FN=0\n",
      "\n"
     ]
    },
    {
     "name": "stderr",
     "output_type": "stream",
     "text": [
      "Batches: 100%|████████████████████████████████████| 1/1 [00:00<00:00, 37.14it/s]\n"
     ]
    },
    {
     "name": "stdout",
     "output_type": "stream",
     "text": [
      "LLM linha 2684: yes\n",
      "Slither linha 2684: no\n",
      "Metrics after line 2684: TP=0, FP=38, TN=15, FN=0\n",
      "\n"
     ]
    },
    {
     "name": "stderr",
     "output_type": "stream",
     "text": [
      "Batches: 100%|████████████████████████████████████| 1/1 [00:00<00:00, 31.36it/s]\n"
     ]
    },
    {
     "name": "stdout",
     "output_type": "stream",
     "text": [
      "LLM linha 1692: yes\n",
      "Slither linha 1692: no\n",
      "Metrics after line 1692: TP=0, FP=39, TN=15, FN=0\n",
      "\n"
     ]
    },
    {
     "name": "stderr",
     "output_type": "stream",
     "text": [
      "Batches: 100%|████████████████████████████████████| 1/1 [00:00<00:00,  9.01it/s]\n"
     ]
    },
    {
     "name": "stdout",
     "output_type": "stream",
     "text": [
      "LLM linha 1950: no\n",
      "Slither linha 1950: no\n",
      "Metrics after line 1950: TP=0, FP=39, TN=16, FN=0\n",
      "\n"
     ]
    },
    {
     "name": "stderr",
     "output_type": "stream",
     "text": [
      "Batches: 100%|████████████████████████████████████| 1/1 [00:00<00:00, 21.32it/s]\n"
     ]
    },
    {
     "name": "stdout",
     "output_type": "stream",
     "text": [
      "LLM linha 2892: no\n",
      "Slither linha 2892: no\n",
      "Metrics after line 2892: TP=0, FP=39, TN=17, FN=0\n",
      "\n"
     ]
    },
    {
     "name": "stderr",
     "output_type": "stream",
     "text": [
      "Batches: 100%|████████████████████████████████████| 1/1 [00:00<00:00, 37.99it/s]\n"
     ]
    },
    {
     "name": "stdout",
     "output_type": "stream",
     "text": [
      "LLM linha 3571: yes\n",
      "Slither linha 3571: no\n",
      "Metrics after line 3571: TP=0, FP=40, TN=17, FN=0\n",
      "\n"
     ]
    },
    {
     "name": "stderr",
     "output_type": "stream",
     "text": [
      "Batches: 100%|████████████████████████████████████| 1/1 [00:00<00:00, 38.66it/s]\n"
     ]
    },
    {
     "name": "stdout",
     "output_type": "stream",
     "text": [
      "LLM linha 3746: yes\n",
      "Slither linha 3746: no\n",
      "Metrics after line 3746: TP=0, FP=41, TN=17, FN=0\n",
      "\n"
     ]
    },
    {
     "name": "stderr",
     "output_type": "stream",
     "text": [
      "Batches: 100%|████████████████████████████████████| 1/1 [00:00<00:00, 31.81it/s]\n"
     ]
    },
    {
     "name": "stdout",
     "output_type": "stream",
     "text": [
      "LLM linha 3431: yes\n",
      "Slither linha 3431: no\n",
      "Metrics after line 3431: TP=0, FP=42, TN=17, FN=0\n",
      "\n"
     ]
    },
    {
     "name": "stderr",
     "output_type": "stream",
     "text": [
      "Batches: 100%|████████████████████████████████████| 1/1 [00:00<00:00,  9.73it/s]\n"
     ]
    },
    {
     "name": "stdout",
     "output_type": "stream",
     "text": [
      "LLM linha 3758: no\n",
      "Slither linha 3758: no\n",
      "Metrics after line 3758: TP=0, FP=42, TN=18, FN=0\n",
      "\n"
     ]
    },
    {
     "name": "stderr",
     "output_type": "stream",
     "text": [
      "Batches: 100%|████████████████████████████████████| 1/1 [00:00<00:00, 25.90it/s]\n"
     ]
    },
    {
     "name": "stdout",
     "output_type": "stream",
     "text": [
      "LLM linha 3197: yes\n",
      "Slither linha 3197: no\n",
      "Metrics after line 3197: TP=0, FP=43, TN=18, FN=0\n",
      "\n"
     ]
    },
    {
     "name": "stderr",
     "output_type": "stream",
     "text": [
      "Batches: 100%|████████████████████████████████████| 1/1 [00:00<00:00, 20.48it/s]\n"
     ]
    },
    {
     "name": "stdout",
     "output_type": "stream",
     "text": [
      "LLM linha 3353: yes\n",
      "Slither linha 3353: no\n",
      "Metrics after line 3353: TP=0, FP=44, TN=18, FN=0\n",
      "\n"
     ]
    },
    {
     "name": "stderr",
     "output_type": "stream",
     "text": [
      "Batches: 100%|████████████████████████████████████| 1/1 [00:00<00:00, 31.18it/s]\n"
     ]
    },
    {
     "name": "stdout",
     "output_type": "stream",
     "text": [
      "LLM linha 2860: yes\n",
      "Slither linha 2860: no\n",
      "Metrics after line 2860: TP=0, FP=45, TN=18, FN=0\n",
      "\n"
     ]
    },
    {
     "name": "stderr",
     "output_type": "stream",
     "text": [
      "Batches: 100%|████████████████████████████████████| 1/1 [00:00<00:00, 33.29it/s]\n"
     ]
    },
    {
     "name": "stdout",
     "output_type": "stream",
     "text": [
      "LLM linha 2221: no\n",
      "Slither linha 2221: no\n",
      "Metrics after line 2221: TP=0, FP=45, TN=19, FN=0\n",
      "\n"
     ]
    },
    {
     "name": "stderr",
     "output_type": "stream",
     "text": [
      "Batches: 100%|████████████████████████████████████| 1/1 [00:00<00:00, 24.21it/s]\n"
     ]
    },
    {
     "name": "stdout",
     "output_type": "stream",
     "text": [
      "LLM linha 2666: yes\n",
      "Slither linha 2666: no\n",
      "Metrics after line 2666: TP=0, FP=46, TN=19, FN=0\n",
      "\n"
     ]
    },
    {
     "name": "stderr",
     "output_type": "stream",
     "text": [
      "Batches: 100%|████████████████████████████████████| 1/1 [00:00<00:00, 20.61it/s]\n"
     ]
    },
    {
     "name": "stdout",
     "output_type": "stream",
     "text": [
      "LLM linha 3061: no\n",
      "Slither linha 3061: no\n",
      "Metrics after line 3061: TP=0, FP=46, TN=20, FN=0\n",
      "\n"
     ]
    },
    {
     "name": "stderr",
     "output_type": "stream",
     "text": [
      "Batches: 100%|████████████████████████████████████| 1/1 [00:00<00:00, 31.42it/s]\n"
     ]
    },
    {
     "name": "stdout",
     "output_type": "stream",
     "text": [
      "LLM linha 2534: yes\n",
      "Slither linha 2534: no\n",
      "Metrics after line 2534: TP=0, FP=47, TN=20, FN=0\n",
      "\n"
     ]
    },
    {
     "name": "stderr",
     "output_type": "stream",
     "text": [
      "Batches: 100%|████████████████████████████████████| 1/1 [00:00<00:00, 24.20it/s]\n"
     ]
    },
    {
     "name": "stdout",
     "output_type": "stream",
     "text": [
      "LLM linha 2988: yes\n",
      "Slither linha 2988: no\n",
      "Metrics after line 2988: TP=0, FP=48, TN=20, FN=0\n",
      "\n"
     ]
    },
    {
     "name": "stderr",
     "output_type": "stream",
     "text": [
      "Batches: 100%|████████████████████████████████████| 1/1 [00:00<00:00, 12.79it/s]\n"
     ]
    },
    {
     "name": "stdout",
     "output_type": "stream",
     "text": [
      "LLM linha 2282: yes\n",
      "Slither linha 2282: no\n",
      "Metrics after line 2282: TP=0, FP=49, TN=20, FN=0\n",
      "\n"
     ]
    },
    {
     "name": "stderr",
     "output_type": "stream",
     "text": [
      "Batches: 100%|████████████████████████████████████| 1/1 [00:00<00:00, 17.42it/s]\n"
     ]
    },
    {
     "name": "stdout",
     "output_type": "stream",
     "text": [
      "LLM linha 1629: no\n",
      "Slither linha 1629: no\n",
      "Metrics after line 1629: TP=0, FP=49, TN=21, FN=0\n",
      "\n"
     ]
    },
    {
     "name": "stderr",
     "output_type": "stream",
     "text": [
      "Batches: 100%|████████████████████████████████████| 1/1 [00:00<00:00, 33.84it/s]\n"
     ]
    },
    {
     "name": "stdout",
     "output_type": "stream",
     "text": [
      "LLM linha 3756: yes\n",
      "Slither linha 3756: no\n",
      "Metrics after line 3756: TP=0, FP=50, TN=21, FN=0\n",
      "\n"
     ]
    },
    {
     "name": "stderr",
     "output_type": "stream",
     "text": [
      "Batches: 100%|████████████████████████████████████| 1/1 [00:00<00:00, 23.09it/s]\n"
     ]
    },
    {
     "name": "stdout",
     "output_type": "stream",
     "text": [
      "LLM linha 2062: yes\n",
      "Slither linha 2062: no\n",
      "Metrics after line 2062: TP=0, FP=51, TN=21, FN=0\n",
      "\n"
     ]
    },
    {
     "name": "stderr",
     "output_type": "stream",
     "text": [
      "Batches: 100%|████████████████████████████████████| 1/1 [00:00<00:00,  5.74it/s]\n"
     ]
    }
   ],
   "source": [
    "TP, FP, TN, FN = 0, 0, 0, 0\n",
    "\n",
    "# Itera sobre o DataFrame\n",
    "for index, row in test_df.iterrows():\n",
    "    resposta = rag_pipeline.run(\n",
    "        {\n",
    "            \"document_joiner\": {\"documents\": documents_with_embeddings},\n",
    "            \"text_embedder\": {\"text\": row[\"source_code\"]},  # Usando a coluna \"source_code\"\n",
    "            \"ranker\": {\"query\": row[\"source_code\"]},\n",
    "            \"bm25_retriever\": {\"query\": row[\"source_code\"]},\n",
    "            \"prompt_builder\": {\"query\": row[\"source_code\"]}\n",
    "        }\n",
    "    )\n",
    "    \n",
    "    llm_resposta = resposta['generator']['replies'][0].strip().lower()  # Resposta da LLM em minúsculas\n",
    "    print(f\"LLM linha {index}: {llm_resposta}\")\n",
    "    \n",
    "    # Verifica se a coluna \"slither\" tem a palavra \"reentrancy\"\n",
    "    if \"reentrancy\" in row[\"slither\"].lower():\n",
    "        slither_resposta = 'yes'\n",
    "    else:\n",
    "        slither_resposta = 'no'\n",
    "    print(f\"Slither linha {index}: {slither_resposta}\")\n",
    "    \n",
    "    # Verifica se a resposta da LLM contém \"yes\" ou \"no\"\n",
    "    if \"yes\" in llm_resposta:\n",
    "        llm_resposta_final = 'yes'\n",
    "    elif \"no\" in llm_resposta:\n",
    "        llm_resposta_final = 'no'\n",
    "    else:\n",
    "        llm_resposta_final = None  # Para lidar com respostas inesperadas\n",
    "\n",
    "    # Calcula as métricas de TP, FP, TN e FN\n",
    "    if slither_resposta == 'yes' and llm_resposta_final == 'yes':\n",
    "        TP += 1\n",
    "    elif slither_resposta == 'no' and llm_resposta_final == 'yes':\n",
    "        FP += 1\n",
    "    elif slither_resposta == 'no' and llm_resposta_final == 'no':\n",
    "        TN += 1\n",
    "    elif slither_resposta == 'yes' and llm_resposta_final == 'no':\n",
    "        FN += 1\n",
    "    \n",
    "    # Exibe as métricas após cada iteração\n",
    "    print(f\"Metrics after line {index}: TP={TP}, FP={FP}, TN={TN}, FN={FN}\\n\")\n"
   ]
  },
  {
   "cell_type": "code",
   "execution_count": 1,
   "metadata": {},
   "outputs": [
    {
     "name": "stdout",
     "output_type": "stream",
     "text": [
      "accuracy 0.2916666666666667\n",
      "precision 0.0\n",
      "recall 0\n",
      "f1 0\n"
     ]
    }
   ],
   "source": [
    "TP=0\n",
    "FP=51\n",
    "TN=21\n",
    "FN=0\n",
    "\n",
    "accuracy = (TP + TN) / (TP + FP + TN + FN)\n",
    "precision = TP / (TP + FP) if (TP + FP) != 0 else 0\n",
    "recall = TP / (TP + FN) if (TP + FN) != 0 else 0\n",
    "f1 = 2 * (precision * recall) / (precision + recall) if (precision + recall) != 0 else 0\n",
    "\n",
    "print(\"accuracy\", accuracy)\n",
    "print(\"precision\", precision)\n",
    "print(\"recall\", recall)\n",
    "print(\"f1\", f1)"
   ]
  }
 ],
 "metadata": {
  "colab": {
   "provenance": []
  },
  "kernelspec": {
   "display_name": "Python 3 (ipykernel)",
   "language": "python",
   "name": "python3"
  },
  "language_info": {
   "codemirror_mode": {
    "name": "ipython",
    "version": 3
   },
   "file_extension": ".py",
   "mimetype": "text/x-python",
   "name": "python",
   "nbconvert_exporter": "python",
   "pygments_lexer": "ipython3",
   "version": "3.12.3"
  },
  "widgets": {
   "application/vnd.jupyter.widget-state+json": {
    "1803c08d6476404fb14ebe93e2208b38": {
     "model_module": "@jupyter-widgets/controls",
     "model_module_version": "1.5.0",
     "model_name": "DescriptionStyleModel",
     "state": {
      "_model_module": "@jupyter-widgets/controls",
      "_model_module_version": "1.5.0",
      "_model_name": "DescriptionStyleModel",
      "_view_count": null,
      "_view_module": "@jupyter-widgets/base",
      "_view_module_version": "1.2.0",
      "_view_name": "StyleView",
      "description_width": ""
     }
    },
    "18129baec0454034aedd2a078363cae0": {
     "model_module": "@jupyter-widgets/controls",
     "model_module_version": "1.5.0",
     "model_name": "HTMLModel",
     "state": {
      "_dom_classes": [],
      "_model_module": "@jupyter-widgets/controls",
      "_model_module_version": "1.5.0",
      "_model_name": "HTMLModel",
      "_view_count": null,
      "_view_module": "@jupyter-widgets/controls",
      "_view_module_version": "1.5.0",
      "_view_name": "HTMLView",
      "description": "",
      "description_tooltip": null,
      "layout": "IPY_MODEL_b4a5517a521a428ca826e309f563ab01",
      "placeholder": "​",
      "style": "IPY_MODEL_c4b6a5edeb314450a68408820ead468a",
      "value": " 1/1 [00:07&lt;00:00,  7.15s/it]"
     }
    },
    "30390ef00a5c4fa98759cdb5408c503e": {
     "model_module": "@jupyter-widgets/controls",
     "model_module_version": "1.5.0",
     "model_name": "HTMLModel",
     "state": {
      "_dom_classes": [],
      "_model_module": "@jupyter-widgets/controls",
      "_model_module_version": "1.5.0",
      "_model_name": "HTMLModel",
      "_view_count": null,
      "_view_module": "@jupyter-widgets/controls",
      "_view_module_version": "1.5.0",
      "_view_name": "HTMLView",
      "description": "",
      "description_tooltip": null,
      "layout": "IPY_MODEL_43123a8449a049659035bdf265078437",
      "placeholder": "​",
      "style": "IPY_MODEL_44e8b9fd7ac14573885b2bce6798d135",
      "value": " 1/1 [00:56&lt;00:00, 56.63s/it]"
     }
    },
    "3775da87896c400299c328d16387649d": {
     "model_module": "@jupyter-widgets/controls",
     "model_module_version": "1.5.0",
     "model_name": "HBoxModel",
     "state": {
      "_dom_classes": [],
      "_model_module": "@jupyter-widgets/controls",
      "_model_module_version": "1.5.0",
      "_model_name": "HBoxModel",
      "_view_count": null,
      "_view_module": "@jupyter-widgets/controls",
      "_view_module_version": "1.5.0",
      "_view_name": "HBoxView",
      "box_style": "",
      "children": [
       "IPY_MODEL_df353fc32b2c43bea7ce596c02bd9b70",
       "IPY_MODEL_3fca0e3e38634f3d84c00c426810ddd6",
       "IPY_MODEL_18129baec0454034aedd2a078363cae0"
      ],
      "layout": "IPY_MODEL_52b0177c1aab45f8959c7e227392249c"
     }
    },
    "3fca0e3e38634f3d84c00c426810ddd6": {
     "model_module": "@jupyter-widgets/controls",
     "model_module_version": "1.5.0",
     "model_name": "FloatProgressModel",
     "state": {
      "_dom_classes": [],
      "_model_module": "@jupyter-widgets/controls",
      "_model_module_version": "1.5.0",
      "_model_name": "FloatProgressModel",
      "_view_count": null,
      "_view_module": "@jupyter-widgets/controls",
      "_view_module_version": "1.5.0",
      "_view_name": "ProgressView",
      "bar_style": "success",
      "description": "",
      "description_tooltip": null,
      "layout": "IPY_MODEL_b6c1f65789c04813b893ad85e480216d",
      "max": 1,
      "min": 0,
      "orientation": "horizontal",
      "style": "IPY_MODEL_fe666ae4f98e4d0e956e7c6b43a5cfcd",
      "value": 1
     }
    },
    "42b22129a69642b48ba22370211614eb": {
     "model_module": "@jupyter-widgets/base",
     "model_module_version": "1.2.0",
     "model_name": "LayoutModel",
     "state": {
      "_model_module": "@jupyter-widgets/base",
      "_model_module_version": "1.2.0",
      "_model_name": "LayoutModel",
      "_view_count": null,
      "_view_module": "@jupyter-widgets/base",
      "_view_module_version": "1.2.0",
      "_view_name": "LayoutView",
      "align_content": null,
      "align_items": null,
      "align_self": null,
      "border": null,
      "bottom": null,
      "display": null,
      "flex": null,
      "flex_flow": null,
      "grid_area": null,
      "grid_auto_columns": null,
      "grid_auto_flow": null,
      "grid_auto_rows": null,
      "grid_column": null,
      "grid_gap": null,
      "grid_row": null,
      "grid_template_areas": null,
      "grid_template_columns": null,
      "grid_template_rows": null,
      "height": null,
      "justify_content": null,
      "justify_items": null,
      "left": null,
      "margin": null,
      "max_height": null,
      "max_width": null,
      "min_height": null,
      "min_width": null,
      "object_fit": null,
      "object_position": null,
      "order": null,
      "overflow": null,
      "overflow_x": null,
      "overflow_y": null,
      "padding": null,
      "right": null,
      "top": null,
      "visibility": null,
      "width": null
     }
    },
    "43123a8449a049659035bdf265078437": {
     "model_module": "@jupyter-widgets/base",
     "model_module_version": "1.2.0",
     "model_name": "LayoutModel",
     "state": {
      "_model_module": "@jupyter-widgets/base",
      "_model_module_version": "1.2.0",
      "_model_name": "LayoutModel",
      "_view_count": null,
      "_view_module": "@jupyter-widgets/base",
      "_view_module_version": "1.2.0",
      "_view_name": "LayoutView",
      "align_content": null,
      "align_items": null,
      "align_self": null,
      "border": null,
      "bottom": null,
      "display": null,
      "flex": null,
      "flex_flow": null,
      "grid_area": null,
      "grid_auto_columns": null,
      "grid_auto_flow": null,
      "grid_auto_rows": null,
      "grid_column": null,
      "grid_gap": null,
      "grid_row": null,
      "grid_template_areas": null,
      "grid_template_columns": null,
      "grid_template_rows": null,
      "height": null,
      "justify_content": null,
      "justify_items": null,
      "left": null,
      "margin": null,
      "max_height": null,
      "max_width": null,
      "min_height": null,
      "min_width": null,
      "object_fit": null,
      "object_position": null,
      "order": null,
      "overflow": null,
      "overflow_x": null,
      "overflow_y": null,
      "padding": null,
      "right": null,
      "top": null,
      "visibility": null,
      "width": null
     }
    },
    "44e8b9fd7ac14573885b2bce6798d135": {
     "model_module": "@jupyter-widgets/controls",
     "model_module_version": "1.5.0",
     "model_name": "DescriptionStyleModel",
     "state": {
      "_model_module": "@jupyter-widgets/controls",
      "_model_module_version": "1.5.0",
      "_model_name": "DescriptionStyleModel",
      "_view_count": null,
      "_view_module": "@jupyter-widgets/base",
      "_view_module_version": "1.2.0",
      "_view_name": "StyleView",
      "description_width": ""
     }
    },
    "4527f79123734009a51653ad39de3155": {
     "model_module": "@jupyter-widgets/base",
     "model_module_version": "1.2.0",
     "model_name": "LayoutModel",
     "state": {
      "_model_module": "@jupyter-widgets/base",
      "_model_module_version": "1.2.0",
      "_model_name": "LayoutModel",
      "_view_count": null,
      "_view_module": "@jupyter-widgets/base",
      "_view_module_version": "1.2.0",
      "_view_name": "LayoutView",
      "align_content": null,
      "align_items": null,
      "align_self": null,
      "border": null,
      "bottom": null,
      "display": null,
      "flex": null,
      "flex_flow": null,
      "grid_area": null,
      "grid_auto_columns": null,
      "grid_auto_flow": null,
      "grid_auto_rows": null,
      "grid_column": null,
      "grid_gap": null,
      "grid_row": null,
      "grid_template_areas": null,
      "grid_template_columns": null,
      "grid_template_rows": null,
      "height": null,
      "justify_content": null,
      "justify_items": null,
      "left": null,
      "margin": null,
      "max_height": null,
      "max_width": null,
      "min_height": null,
      "min_width": null,
      "object_fit": null,
      "object_position": null,
      "order": null,
      "overflow": null,
      "overflow_x": null,
      "overflow_y": null,
      "padding": null,
      "right": null,
      "top": null,
      "visibility": null,
      "width": null
     }
    },
    "52b0177c1aab45f8959c7e227392249c": {
     "model_module": "@jupyter-widgets/base",
     "model_module_version": "1.2.0",
     "model_name": "LayoutModel",
     "state": {
      "_model_module": "@jupyter-widgets/base",
      "_model_module_version": "1.2.0",
      "_model_name": "LayoutModel",
      "_view_count": null,
      "_view_module": "@jupyter-widgets/base",
      "_view_module_version": "1.2.0",
      "_view_name": "LayoutView",
      "align_content": null,
      "align_items": null,
      "align_self": null,
      "border": null,
      "bottom": null,
      "display": null,
      "flex": null,
      "flex_flow": null,
      "grid_area": null,
      "grid_auto_columns": null,
      "grid_auto_flow": null,
      "grid_auto_rows": null,
      "grid_column": null,
      "grid_gap": null,
      "grid_row": null,
      "grid_template_areas": null,
      "grid_template_columns": null,
      "grid_template_rows": null,
      "height": null,
      "justify_content": null,
      "justify_items": null,
      "left": null,
      "margin": null,
      "max_height": null,
      "max_width": null,
      "min_height": null,
      "min_width": null,
      "object_fit": null,
      "object_position": null,
      "order": null,
      "overflow": null,
      "overflow_x": null,
      "overflow_y": null,
      "padding": null,
      "right": null,
      "top": null,
      "visibility": null,
      "width": null
     }
    },
    "58f4d66360a44184b8c782eaa353fc13": {
     "model_module": "@jupyter-widgets/controls",
     "model_module_version": "1.5.0",
     "model_name": "FloatProgressModel",
     "state": {
      "_dom_classes": [],
      "_model_module": "@jupyter-widgets/controls",
      "_model_module_version": "1.5.0",
      "_model_name": "FloatProgressModel",
      "_view_count": null,
      "_view_module": "@jupyter-widgets/controls",
      "_view_module_version": "1.5.0",
      "_view_name": "ProgressView",
      "bar_style": "success",
      "description": "",
      "description_tooltip": null,
      "layout": "IPY_MODEL_6e47912c2aff4c869a218d087a5138e4",
      "max": 1,
      "min": 0,
      "orientation": "horizontal",
      "style": "IPY_MODEL_e9543d289f0844e19fc3446d408de8f4",
      "value": 1
     }
    },
    "6e47912c2aff4c869a218d087a5138e4": {
     "model_module": "@jupyter-widgets/base",
     "model_module_version": "1.2.0",
     "model_name": "LayoutModel",
     "state": {
      "_model_module": "@jupyter-widgets/base",
      "_model_module_version": "1.2.0",
      "_model_name": "LayoutModel",
      "_view_count": null,
      "_view_module": "@jupyter-widgets/base",
      "_view_module_version": "1.2.0",
      "_view_name": "LayoutView",
      "align_content": null,
      "align_items": null,
      "align_self": null,
      "border": null,
      "bottom": null,
      "display": null,
      "flex": null,
      "flex_flow": null,
      "grid_area": null,
      "grid_auto_columns": null,
      "grid_auto_flow": null,
      "grid_auto_rows": null,
      "grid_column": null,
      "grid_gap": null,
      "grid_row": null,
      "grid_template_areas": null,
      "grid_template_columns": null,
      "grid_template_rows": null,
      "height": null,
      "justify_content": null,
      "justify_items": null,
      "left": null,
      "margin": null,
      "max_height": null,
      "max_width": null,
      "min_height": null,
      "min_width": null,
      "object_fit": null,
      "object_position": null,
      "order": null,
      "overflow": null,
      "overflow_x": null,
      "overflow_y": null,
      "padding": null,
      "right": null,
      "top": null,
      "visibility": null,
      "width": null
     }
    },
    "71f78e1ef58e4deb8837ec4f5ec2af7a": {
     "model_module": "@jupyter-widgets/controls",
     "model_module_version": "1.5.0",
     "model_name": "DescriptionStyleModel",
     "state": {
      "_model_module": "@jupyter-widgets/controls",
      "_model_module_version": "1.5.0",
      "_model_name": "DescriptionStyleModel",
      "_view_count": null,
      "_view_module": "@jupyter-widgets/base",
      "_view_module_version": "1.2.0",
      "_view_name": "StyleView",
      "description_width": ""
     }
    },
    "93c1723994b34f049e070378b1b94468": {
     "model_module": "@jupyter-widgets/controls",
     "model_module_version": "1.5.0",
     "model_name": "HBoxModel",
     "state": {
      "_dom_classes": [],
      "_model_module": "@jupyter-widgets/controls",
      "_model_module_version": "1.5.0",
      "_model_name": "HBoxModel",
      "_view_count": null,
      "_view_module": "@jupyter-widgets/controls",
      "_view_module_version": "1.5.0",
      "_view_name": "HBoxView",
      "box_style": "",
      "children": [
       "IPY_MODEL_ec7685792ba54dc9a87a94f15763029b",
       "IPY_MODEL_58f4d66360a44184b8c782eaa353fc13",
       "IPY_MODEL_30390ef00a5c4fa98759cdb5408c503e"
      ],
      "layout": "IPY_MODEL_4527f79123734009a51653ad39de3155"
     }
    },
    "b4a5517a521a428ca826e309f563ab01": {
     "model_module": "@jupyter-widgets/base",
     "model_module_version": "1.2.0",
     "model_name": "LayoutModel",
     "state": {
      "_model_module": "@jupyter-widgets/base",
      "_model_module_version": "1.2.0",
      "_model_name": "LayoutModel",
      "_view_count": null,
      "_view_module": "@jupyter-widgets/base",
      "_view_module_version": "1.2.0",
      "_view_name": "LayoutView",
      "align_content": null,
      "align_items": null,
      "align_self": null,
      "border": null,
      "bottom": null,
      "display": null,
      "flex": null,
      "flex_flow": null,
      "grid_area": null,
      "grid_auto_columns": null,
      "grid_auto_flow": null,
      "grid_auto_rows": null,
      "grid_column": null,
      "grid_gap": null,
      "grid_row": null,
      "grid_template_areas": null,
      "grid_template_columns": null,
      "grid_template_rows": null,
      "height": null,
      "justify_content": null,
      "justify_items": null,
      "left": null,
      "margin": null,
      "max_height": null,
      "max_width": null,
      "min_height": null,
      "min_width": null,
      "object_fit": null,
      "object_position": null,
      "order": null,
      "overflow": null,
      "overflow_x": null,
      "overflow_y": null,
      "padding": null,
      "right": null,
      "top": null,
      "visibility": null,
      "width": null
     }
    },
    "b6c1f65789c04813b893ad85e480216d": {
     "model_module": "@jupyter-widgets/base",
     "model_module_version": "1.2.0",
     "model_name": "LayoutModel",
     "state": {
      "_model_module": "@jupyter-widgets/base",
      "_model_module_version": "1.2.0",
      "_model_name": "LayoutModel",
      "_view_count": null,
      "_view_module": "@jupyter-widgets/base",
      "_view_module_version": "1.2.0",
      "_view_name": "LayoutView",
      "align_content": null,
      "align_items": null,
      "align_self": null,
      "border": null,
      "bottom": null,
      "display": null,
      "flex": null,
      "flex_flow": null,
      "grid_area": null,
      "grid_auto_columns": null,
      "grid_auto_flow": null,
      "grid_auto_rows": null,
      "grid_column": null,
      "grid_gap": null,
      "grid_row": null,
      "grid_template_areas": null,
      "grid_template_columns": null,
      "grid_template_rows": null,
      "height": null,
      "justify_content": null,
      "justify_items": null,
      "left": null,
      "margin": null,
      "max_height": null,
      "max_width": null,
      "min_height": null,
      "min_width": null,
      "object_fit": null,
      "object_position": null,
      "order": null,
      "overflow": null,
      "overflow_x": null,
      "overflow_y": null,
      "padding": null,
      "right": null,
      "top": null,
      "visibility": null,
      "width": null
     }
    },
    "c4b6a5edeb314450a68408820ead468a": {
     "model_module": "@jupyter-widgets/controls",
     "model_module_version": "1.5.0",
     "model_name": "DescriptionStyleModel",
     "state": {
      "_model_module": "@jupyter-widgets/controls",
      "_model_module_version": "1.5.0",
      "_model_name": "DescriptionStyleModel",
      "_view_count": null,
      "_view_module": "@jupyter-widgets/base",
      "_view_module_version": "1.2.0",
      "_view_name": "StyleView",
      "description_width": ""
     }
    },
    "d76eea9015f544e3883a5a7f84a4821d": {
     "model_module": "@jupyter-widgets/base",
     "model_module_version": "1.2.0",
     "model_name": "LayoutModel",
     "state": {
      "_model_module": "@jupyter-widgets/base",
      "_model_module_version": "1.2.0",
      "_model_name": "LayoutModel",
      "_view_count": null,
      "_view_module": "@jupyter-widgets/base",
      "_view_module_version": "1.2.0",
      "_view_name": "LayoutView",
      "align_content": null,
      "align_items": null,
      "align_self": null,
      "border": null,
      "bottom": null,
      "display": null,
      "flex": null,
      "flex_flow": null,
      "grid_area": null,
      "grid_auto_columns": null,
      "grid_auto_flow": null,
      "grid_auto_rows": null,
      "grid_column": null,
      "grid_gap": null,
      "grid_row": null,
      "grid_template_areas": null,
      "grid_template_columns": null,
      "grid_template_rows": null,
      "height": null,
      "justify_content": null,
      "justify_items": null,
      "left": null,
      "margin": null,
      "max_height": null,
      "max_width": null,
      "min_height": null,
      "min_width": null,
      "object_fit": null,
      "object_position": null,
      "order": null,
      "overflow": null,
      "overflow_x": null,
      "overflow_y": null,
      "padding": null,
      "right": null,
      "top": null,
      "visibility": null,
      "width": null
     }
    },
    "df353fc32b2c43bea7ce596c02bd9b70": {
     "model_module": "@jupyter-widgets/controls",
     "model_module_version": "1.5.0",
     "model_name": "HTMLModel",
     "state": {
      "_dom_classes": [],
      "_model_module": "@jupyter-widgets/controls",
      "_model_module_version": "1.5.0",
      "_model_name": "HTMLModel",
      "_view_count": null,
      "_view_module": "@jupyter-widgets/controls",
      "_view_module_version": "1.5.0",
      "_view_name": "HTMLView",
      "description": "",
      "description_tooltip": null,
      "layout": "IPY_MODEL_42b22129a69642b48ba22370211614eb",
      "placeholder": "​",
      "style": "IPY_MODEL_71f78e1ef58e4deb8837ec4f5ec2af7a",
      "value": "Batches: 100%"
     }
    },
    "e9543d289f0844e19fc3446d408de8f4": {
     "model_module": "@jupyter-widgets/controls",
     "model_module_version": "1.5.0",
     "model_name": "ProgressStyleModel",
     "state": {
      "_model_module": "@jupyter-widgets/controls",
      "_model_module_version": "1.5.0",
      "_model_name": "ProgressStyleModel",
      "_view_count": null,
      "_view_module": "@jupyter-widgets/base",
      "_view_module_version": "1.2.0",
      "_view_name": "StyleView",
      "bar_color": null,
      "description_width": ""
     }
    },
    "ec7685792ba54dc9a87a94f15763029b": {
     "model_module": "@jupyter-widgets/controls",
     "model_module_version": "1.5.0",
     "model_name": "HTMLModel",
     "state": {
      "_dom_classes": [],
      "_model_module": "@jupyter-widgets/controls",
      "_model_module_version": "1.5.0",
      "_model_name": "HTMLModel",
      "_view_count": null,
      "_view_module": "@jupyter-widgets/controls",
      "_view_module_version": "1.5.0",
      "_view_name": "HTMLView",
      "description": "",
      "description_tooltip": null,
      "layout": "IPY_MODEL_d76eea9015f544e3883a5a7f84a4821d",
      "placeholder": "​",
      "style": "IPY_MODEL_1803c08d6476404fb14ebe93e2208b38",
      "value": "Batches: 100%"
     }
    },
    "fe666ae4f98e4d0e956e7c6b43a5cfcd": {
     "model_module": "@jupyter-widgets/controls",
     "model_module_version": "1.5.0",
     "model_name": "ProgressStyleModel",
     "state": {
      "_model_module": "@jupyter-widgets/controls",
      "_model_module_version": "1.5.0",
      "_model_name": "ProgressStyleModel",
      "_view_count": null,
      "_view_module": "@jupyter-widgets/base",
      "_view_module_version": "1.2.0",
      "_view_name": "StyleView",
      "bar_color": null,
      "description_width": ""
     }
    }
   }
  }
 },
 "nbformat": 4,
 "nbformat_minor": 4
}
